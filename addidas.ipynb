{
 "cells": [
  {
   "cell_type": "code",
   "execution_count": 2,
   "metadata": {},
   "outputs": [],
   "source": [
    "import pandas as pd\n",
    "import matplotlib.pyplot as plt\n",
    "from plotly.subplots import make_subplots\n",
    "import plotly.express as px\n",
    "import plotly.graph_objects as go\n"
   ]
  },
  {
   "cell_type": "markdown",
   "metadata": {},
   "source": [
    "we begin"
   ]
  },
  {
   "cell_type": "markdown",
   "metadata": {},
   "source": [
    "Total Sales by Retailer"
   ]
  },
  {
   "cell_type": "code",
   "execution_count": 38,
   "metadata": {},
   "outputs": [
    {
     "data": {
      "text/html": [
       "<div>\n",
       "<style scoped>\n",
       "    .dataframe tbody tr th:only-of-type {\n",
       "        vertical-align: middle;\n",
       "    }\n",
       "\n",
       "    .dataframe tbody tr th {\n",
       "        vertical-align: top;\n",
       "    }\n",
       "\n",
       "    .dataframe thead th {\n",
       "        text-align: right;\n",
       "    }\n",
       "</style>\n",
       "<table border=\"1\" class=\"dataframe\">\n",
       "  <thead>\n",
       "    <tr style=\"text-align: right;\">\n",
       "      <th></th>\n",
       "      <th>Retailer</th>\n",
       "      <th>RetailerID</th>\n",
       "      <th>InvoiceDate</th>\n",
       "      <th>Region</th>\n",
       "      <th>State</th>\n",
       "      <th>City</th>\n",
       "      <th>Product</th>\n",
       "      <th>PriceperUnit</th>\n",
       "      <th>UnitsSold</th>\n",
       "      <th>TotalSales</th>\n",
       "      <th>OperatingProfit</th>\n",
       "      <th>OperatingMargin</th>\n",
       "      <th>SalesMethod</th>\n",
       "    </tr>\n",
       "  </thead>\n",
       "  <tbody>\n",
       "    <tr>\n",
       "      <th>0</th>\n",
       "      <td>Foot Locker</td>\n",
       "      <td>1185732</td>\n",
       "      <td>2020-02-03</td>\n",
       "      <td>Northeast</td>\n",
       "      <td>New York</td>\n",
       "      <td>New York</td>\n",
       "      <td>Women's Athletic Footwear</td>\n",
       "      <td>45.0</td>\n",
       "      <td>825</td>\n",
       "      <td>371250.0</td>\n",
       "      <td>129937.5</td>\n",
       "      <td>0.35</td>\n",
       "      <td>Outlet</td>\n",
       "    </tr>\n",
       "    <tr>\n",
       "      <th>1</th>\n",
       "      <td>Foot Locker</td>\n",
       "      <td>1185732</td>\n",
       "      <td>2020-02-04</td>\n",
       "      <td>Northeast</td>\n",
       "      <td>New York</td>\n",
       "      <td>New York</td>\n",
       "      <td>Men's Apparel</td>\n",
       "      <td>60.0</td>\n",
       "      <td>825</td>\n",
       "      <td>495000.0</td>\n",
       "      <td>148500.0</td>\n",
       "      <td>0.30</td>\n",
       "      <td>Outlet</td>\n",
       "    </tr>\n",
       "    <tr>\n",
       "      <th>2</th>\n",
       "      <td>Foot Locker</td>\n",
       "      <td>1185732</td>\n",
       "      <td>2020-02-05</td>\n",
       "      <td>Northeast</td>\n",
       "      <td>New York</td>\n",
       "      <td>New York</td>\n",
       "      <td>Women's Apparel</td>\n",
       "      <td>50.0</td>\n",
       "      <td>950</td>\n",
       "      <td>475000.0</td>\n",
       "      <td>118750.0</td>\n",
       "      <td>0.25</td>\n",
       "      <td>Outlet</td>\n",
       "    </tr>\n",
       "    <tr>\n",
       "      <th>3</th>\n",
       "      <td>Foot Locker</td>\n",
       "      <td>1185732</td>\n",
       "      <td>2020-02-06</td>\n",
       "      <td>Northeast</td>\n",
       "      <td>New York</td>\n",
       "      <td>New York</td>\n",
       "      <td>Men's Street Footwear</td>\n",
       "      <td>60.0</td>\n",
       "      <td>1220</td>\n",
       "      <td>732000.0</td>\n",
       "      <td>366000.0</td>\n",
       "      <td>0.50</td>\n",
       "      <td>Outlet</td>\n",
       "    </tr>\n",
       "    <tr>\n",
       "      <th>4</th>\n",
       "      <td>Foot Locker</td>\n",
       "      <td>1185732</td>\n",
       "      <td>2020-02-07</td>\n",
       "      <td>Northeast</td>\n",
       "      <td>New York</td>\n",
       "      <td>New York</td>\n",
       "      <td>Men's Athletic Footwear</td>\n",
       "      <td>55.0</td>\n",
       "      <td>925</td>\n",
       "      <td>508750.0</td>\n",
       "      <td>152625.0</td>\n",
       "      <td>0.30</td>\n",
       "      <td>Outlet</td>\n",
       "    </tr>\n",
       "  </tbody>\n",
       "</table>\n",
       "</div>"
      ],
      "text/plain": [
       "      Retailer  RetailerID InvoiceDate     Region     State      City  \\\n",
       "0  Foot Locker     1185732  2020-02-03  Northeast  New York  New York   \n",
       "1  Foot Locker     1185732  2020-02-04  Northeast  New York  New York   \n",
       "2  Foot Locker     1185732  2020-02-05  Northeast  New York  New York   \n",
       "3  Foot Locker     1185732  2020-02-06  Northeast  New York  New York   \n",
       "4  Foot Locker     1185732  2020-02-07  Northeast  New York  New York   \n",
       "\n",
       "                     Product  PriceperUnit  UnitsSold  TotalSales  \\\n",
       "0  Women's Athletic Footwear          45.0        825    371250.0   \n",
       "1              Men's Apparel          60.0        825    495000.0   \n",
       "2            Women's Apparel          50.0        950    475000.0   \n",
       "3      Men's Street Footwear          60.0       1220    732000.0   \n",
       "4    Men's Athletic Footwear          55.0        925    508750.0   \n",
       "\n",
       "   OperatingProfit  OperatingMargin SalesMethod  \n",
       "0         129937.5             0.35      Outlet  \n",
       "1         148500.0             0.30      Outlet  \n",
       "2         118750.0             0.25      Outlet  \n",
       "3         366000.0             0.50      Outlet  \n",
       "4         152625.0             0.30      Outlet  "
      ]
     },
     "execution_count": 38,
     "metadata": {},
     "output_type": "execute_result"
    }
   ],
   "source": [
    "df = pd.read_excel('data/Adidas.xlsx')\n",
    "df.head()"
   ]
  },
  {
   "cell_type": "code",
   "execution_count": 4,
   "metadata": {},
   "outputs": [
    {
     "name": "stdout",
     "output_type": "stream",
     "text": [
      "Retailer\n",
      "West Gear        242964333.0\n",
      "Walmart           74558410.0\n",
      "Sports Direct    182470997.0\n",
      "Kohl's           102114753.0\n",
      "Foot Locker      219877220.0\n",
      "Amazon            77698912.0\n",
      "Name: TotalSales, dtype: float64\n"
     ]
    }
   ],
   "source": [
    "# Find out how many Retailers there are\n",
    "print(df.groupby('Retailer')['TotalSales'].sum().sort_values(axis=0, ascending=False).sort_index(ascending=False))\n"
   ]
  },
  {
   "cell_type": "code",
   "execution_count": 5,
   "metadata": {},
   "outputs": [
    {
     "data": {
      "application/vnd.plotly.v1+json": {
       "config": {
        "plotlyServerURL": "https://plot.ly"
       },
       "data": [
        {
         "alignmentgroup": "True",
         "hovertemplate": "color=Foot Locker<br>Retailer=%{x}<br>Total Sales=%{y}<extra></extra>",
         "legendgroup": "Foot Locker",
         "marker": {
          "color": "blue",
          "pattern": {
           "shape": ""
          }
         },
         "name": "Foot Locker",
         "offsetgroup": "Foot Locker",
         "orientation": "v",
         "showlegend": true,
         "textposition": "auto",
         "type": "bar",
         "x": [
          "Amazon"
         ],
         "xaxis": "x",
         "y": [
          77698912
         ],
         "yaxis": "y"
        },
        {
         "alignmentgroup": "True",
         "hovertemplate": "color=Walmart<br>Retailer=%{x}<br>Total Sales=%{y}<extra></extra>",
         "legendgroup": "Walmart",
         "marker": {
          "color": "blue",
          "pattern": {
           "shape": ""
          }
         },
         "name": "Walmart",
         "offsetgroup": "Walmart",
         "orientation": "v",
         "showlegend": true,
         "textposition": "auto",
         "type": "bar",
         "x": [
          "Foot Locker"
         ],
         "xaxis": "x",
         "y": [
          219877220
         ],
         "yaxis": "y"
        },
        {
         "alignmentgroup": "True",
         "hovertemplate": "color=Sports Direct<br>Retailer=%{x}<br>Total Sales=%{y}<extra></extra>",
         "legendgroup": "Sports Direct",
         "marker": {
          "color": "blue",
          "pattern": {
           "shape": ""
          }
         },
         "name": "Sports Direct",
         "offsetgroup": "Sports Direct",
         "orientation": "v",
         "showlegend": true,
         "textposition": "auto",
         "type": "bar",
         "x": [
          "Kohl's"
         ],
         "xaxis": "x",
         "y": [
          102114753
         ],
         "yaxis": "y"
        },
        {
         "alignmentgroup": "True",
         "hovertemplate": "color=West Gear<br>Retailer=%{x}<br>Total Sales=%{y}<extra></extra>",
         "legendgroup": "West Gear",
         "marker": {
          "color": "blue",
          "pattern": {
           "shape": ""
          }
         },
         "name": "West Gear",
         "offsetgroup": "West Gear",
         "orientation": "v",
         "showlegend": true,
         "textposition": "auto",
         "type": "bar",
         "x": [
          "Sports Direct"
         ],
         "xaxis": "x",
         "y": [
          182470997
         ],
         "yaxis": "y"
        },
        {
         "alignmentgroup": "True",
         "hovertemplate": "color=Kohl's<br>Retailer=%{x}<br>Total Sales=%{y}<extra></extra>",
         "legendgroup": "Kohl's",
         "marker": {
          "color": "blue",
          "pattern": {
           "shape": ""
          }
         },
         "name": "Kohl's",
         "offsetgroup": "Kohl's",
         "orientation": "v",
         "showlegend": true,
         "textposition": "auto",
         "type": "bar",
         "x": [
          "Walmart"
         ],
         "xaxis": "x",
         "y": [
          74558410
         ],
         "yaxis": "y"
        },
        {
         "alignmentgroup": "True",
         "hovertemplate": "color=Amazon<br>Retailer=%{x}<br>Total Sales=%{y}<extra></extra>",
         "legendgroup": "Amazon",
         "marker": {
          "color": "blue",
          "pattern": {
           "shape": ""
          }
         },
         "name": "Amazon",
         "offsetgroup": "Amazon",
         "orientation": "v",
         "showlegend": true,
         "textposition": "auto",
         "type": "bar",
         "x": [
          "West Gear"
         ],
         "xaxis": "x",
         "y": [
          242964333
         ],
         "yaxis": "y"
        }
       ],
       "layout": {
        "barmode": "relative",
        "legend": {
         "title": {
          "text": "color"
         },
         "tracegroupgap": 0
        },
        "margin": {
         "t": 60
        },
        "template": {
         "data": {
          "candlestick": [
           {
            "decreasing": {
             "line": {
              "color": "#000033"
             }
            },
            "increasing": {
             "line": {
              "color": "#000032"
             }
            },
            "type": "candlestick"
           }
          ],
          "contour": [
           {
            "colorscale": [
             [
              0,
              "#000011"
             ],
             [
              0.1111111111111111,
              "#000012"
             ],
             [
              0.2222222222222222,
              "#000013"
             ],
             [
              0.3333333333333333,
              "#000014"
             ],
             [
              0.4444444444444444,
              "#000015"
             ],
             [
              0.5555555555555556,
              "#000016"
             ],
             [
              0.6666666666666666,
              "#000017"
             ],
             [
              0.7777777777777778,
              "#000018"
             ],
             [
              0.8888888888888888,
              "#000019"
             ],
             [
              1,
              "#000020"
             ]
            ],
            "type": "contour"
           }
          ],
          "contourcarpet": [
           {
            "colorscale": [
             [
              0,
              "#000011"
             ],
             [
              0.1111111111111111,
              "#000012"
             ],
             [
              0.2222222222222222,
              "#000013"
             ],
             [
              0.3333333333333333,
              "#000014"
             ],
             [
              0.4444444444444444,
              "#000015"
             ],
             [
              0.5555555555555556,
              "#000016"
             ],
             [
              0.6666666666666666,
              "#000017"
             ],
             [
              0.7777777777777778,
              "#000018"
             ],
             [
              0.8888888888888888,
              "#000019"
             ],
             [
              1,
              "#000020"
             ]
            ],
            "type": "contourcarpet"
           }
          ],
          "heatmap": [
           {
            "colorscale": [
             [
              0,
              "#000011"
             ],
             [
              0.1111111111111111,
              "#000012"
             ],
             [
              0.2222222222222222,
              "#000013"
             ],
             [
              0.3333333333333333,
              "#000014"
             ],
             [
              0.4444444444444444,
              "#000015"
             ],
             [
              0.5555555555555556,
              "#000016"
             ],
             [
              0.6666666666666666,
              "#000017"
             ],
             [
              0.7777777777777778,
              "#000018"
             ],
             [
              0.8888888888888888,
              "#000019"
             ],
             [
              1,
              "#000020"
             ]
            ],
            "type": "heatmap"
           }
          ],
          "histogram2d": [
           {
            "colorscale": [
             [
              0,
              "#000011"
             ],
             [
              0.1111111111111111,
              "#000012"
             ],
             [
              0.2222222222222222,
              "#000013"
             ],
             [
              0.3333333333333333,
              "#000014"
             ],
             [
              0.4444444444444444,
              "#000015"
             ],
             [
              0.5555555555555556,
              "#000016"
             ],
             [
              0.6666666666666666,
              "#000017"
             ],
             [
              0.7777777777777778,
              "#000018"
             ],
             [
              0.8888888888888888,
              "#000019"
             ],
             [
              1,
              "#000020"
             ]
            ],
            "type": "histogram2d"
           }
          ],
          "icicle": [
           {
            "textfont": {
             "color": "white"
            },
            "type": "icicle"
           }
          ],
          "sankey": [
           {
            "textfont": {
             "color": "#000036"
            },
            "type": "sankey"
           }
          ],
          "scatter": [
           {
            "marker": {
             "line": {
              "width": 0
             }
            },
            "type": "scatter"
           }
          ],
          "table": [
           {
            "cells": {
             "fill": {
              "color": "#000038"
             },
             "font": {
              "color": "#000037"
             },
             "line": {
              "color": "#000039"
             }
            },
            "header": {
             "fill": {
              "color": "#000040"
             },
             "font": {
              "color": "#000036"
             },
             "line": {
              "color": "#000039"
             }
            },
            "type": "table"
           }
          ],
          "waterfall": [
           {
            "connector": {
             "line": {
              "color": "#000036",
              "width": 2
             }
            },
            "decreasing": {
             "marker": {
              "color": "#000033"
             }
            },
            "increasing": {
             "marker": {
              "color": "#000032"
             }
            },
            "totals": {
             "marker": {
              "color": "#000034"
             }
            },
            "type": "waterfall"
           }
          ]
         },
         "layout": {
          "coloraxis": {
           "colorscale": [
            [
             0,
             "#000011"
            ],
            [
             0.1111111111111111,
             "#000012"
            ],
            [
             0.2222222222222222,
             "#000013"
            ],
            [
             0.3333333333333333,
             "#000014"
            ],
            [
             0.4444444444444444,
             "#000015"
            ],
            [
             0.5555555555555556,
             "#000016"
            ],
            [
             0.6666666666666666,
             "#000017"
            ],
            [
             0.7777777777777778,
             "#000018"
            ],
            [
             0.8888888888888888,
             "#000019"
            ],
            [
             1,
             "#000020"
            ]
           ]
          },
          "colorscale": {
           "diverging": [
            [
             0,
             "#000021"
            ],
            [
             0.1,
             "#000022"
            ],
            [
             0.2,
             "#000023"
            ],
            [
             0.3,
             "#000024"
            ],
            [
             0.4,
             "#000025"
            ],
            [
             0.5,
             "#000026"
            ],
            [
             0.6,
             "#000027"
            ],
            [
             0.7,
             "#000028"
            ],
            [
             0.8,
             "#000029"
            ],
            [
             0.9,
             "#000030"
            ],
            [
             1,
             "#000031"
            ]
           ],
           "sequential": [
            [
             0,
             "#000011"
            ],
            [
             0.1111111111111111,
             "#000012"
            ],
            [
             0.2222222222222222,
             "#000013"
            ],
            [
             0.3333333333333333,
             "#000014"
            ],
            [
             0.4444444444444444,
             "#000015"
            ],
            [
             0.5555555555555556,
             "#000016"
            ],
            [
             0.6666666666666666,
             "#000017"
            ],
            [
             0.7777777777777778,
             "#000018"
            ],
            [
             0.8888888888888888,
             "#000019"
            ],
            [
             1,
             "#000020"
            ]
           ],
           "sequentialminus": [
            [
             0,
             "#000011"
            ],
            [
             0.1111111111111111,
             "#000012"
            ],
            [
             0.2222222222222222,
             "#000013"
            ],
            [
             0.3333333333333333,
             "#000014"
            ],
            [
             0.4444444444444444,
             "#000015"
            ],
            [
             0.5555555555555556,
             "#000016"
            ],
            [
             0.6666666666666666,
             "#000017"
            ],
            [
             0.7777777777777778,
             "#000018"
            ],
            [
             0.8888888888888888,
             "#000019"
            ],
            [
             1,
             "#000020"
            ]
           ]
          },
          "colorway": [
           "#000001",
           "#000002",
           "#000003",
           "#000004",
           "#000005",
           "#000006",
           "#000007",
           "#000008",
           "#000009",
           "#000010"
          ]
         }
        },
        "xaxis": {
         "anchor": "y",
         "domain": [
          0,
          1
         ],
         "title": {
          "text": "Retailers"
         }
        },
        "yaxis": {
         "anchor": "x",
         "domain": [
          0,
          1
         ],
         "title": {
          "text": "Total Sales"
         }
        }
       }
      }
     },
     "metadata": {},
     "output_type": "display_data"
    },
    {
     "data": {
      "text/html": [
       "<div>\n",
       "<style scoped>\n",
       "    .dataframe tbody tr th:only-of-type {\n",
       "        vertical-align: middle;\n",
       "    }\n",
       "\n",
       "    .dataframe tbody tr th {\n",
       "        vertical-align: top;\n",
       "    }\n",
       "\n",
       "    .dataframe thead th {\n",
       "        text-align: right;\n",
       "    }\n",
       "</style>\n",
       "<table border=\"1\" class=\"dataframe\">\n",
       "  <thead>\n",
       "    <tr style=\"text-align: right;\">\n",
       "      <th></th>\n",
       "      <th>Total Sales</th>\n",
       "    </tr>\n",
       "    <tr>\n",
       "      <th>Retailer</th>\n",
       "      <th></th>\n",
       "    </tr>\n",
       "  </thead>\n",
       "  <tbody>\n",
       "    <tr>\n",
       "      <th>Amazon</th>\n",
       "      <td>77698912.0</td>\n",
       "    </tr>\n",
       "    <tr>\n",
       "      <th>Foot Locker</th>\n",
       "      <td>219877220.0</td>\n",
       "    </tr>\n",
       "    <tr>\n",
       "      <th>Kohl's</th>\n",
       "      <td>102114753.0</td>\n",
       "    </tr>\n",
       "    <tr>\n",
       "      <th>Sports Direct</th>\n",
       "      <td>182470997.0</td>\n",
       "    </tr>\n",
       "    <tr>\n",
       "      <th>Walmart</th>\n",
       "      <td>74558410.0</td>\n",
       "    </tr>\n",
       "    <tr>\n",
       "      <th>West Gear</th>\n",
       "      <td>242964333.0</td>\n",
       "    </tr>\n",
       "  </tbody>\n",
       "</table>\n",
       "</div>"
      ],
      "text/plain": [
       "               Total Sales\n",
       "Retailer                  \n",
       "Amazon          77698912.0\n",
       "Foot Locker    219877220.0\n",
       "Kohl's         102114753.0\n",
       "Sports Direct  182470997.0\n",
       "Walmart         74558410.0\n",
       "West Gear      242964333.0"
      ]
     },
     "execution_count": 5,
     "metadata": {},
     "output_type": "execute_result"
    },
    {
     "data": {
      "text/plain": [
       "<Figure size 700x1100 with 0 Axes>"
      ]
     },
     "metadata": {},
     "output_type": "display_data"
    }
   ],
   "source": [
    "# Graph Logic\n",
    "# Calculate total sales for each retailer\n",
    "retailers = df['Retailer'].unique()\n",
    "total_sales = df.groupby('Retailer')['TotalSales'].sum()\n",
    "\n",
    "# Convert Series to DataFrame (one column) for plotly.express\n",
    "total_sales_df = total_sales.to_frame(name='Total Sales')  # Create DataFrame\n",
    "\n",
    "# To add colors to the retailers \n",
    "colors = ['blue']\n",
    "\n",
    "# Plot Graph\n",
    "plt.figure(figsize=(7,11))\n",
    "# fig = px.bar(data_frame=total_sales, x=total_sales.values, y=total_sales.index, color= retailers)\n",
    "fig = px.bar(data_frame=total_sales_df,\n",
    "             x=total_sales_df.index,\n",
    "             y='Total Sales',  \n",
    "             color=retailers, \n",
    "             color_discrete_sequence=colors\n",
    ")  # Use fig for plotly object\n",
    "\n",
    "\n",
    "# Graph title and setting\n",
    "fig.update_layout(\n",
    "    yaxis_title='Total Sales',\n",
    "    xaxis_title='Retailers',\n",
    ")\n",
    "plt.savefig('totalSalesofRetailers.png', dpi=300)\n",
    "fig.show()\n",
    "total_sales_df"
   ]
  },
  {
   "cell_type": "markdown",
   "metadata": {},
   "source": [
    "Total Sales over Time"
   ]
  },
  {
   "cell_type": "code",
   "execution_count": 6,
   "metadata": {},
   "outputs": [
    {
     "data": {
      "text/html": [
       "<div>\n",
       "<style scoped>\n",
       "    .dataframe tbody tr th:only-of-type {\n",
       "        vertical-align: middle;\n",
       "    }\n",
       "\n",
       "    .dataframe tbody tr th {\n",
       "        vertical-align: top;\n",
       "    }\n",
       "\n",
       "    .dataframe thead th {\n",
       "        text-align: right;\n",
       "    }\n",
       "</style>\n",
       "<table border=\"1\" class=\"dataframe\">\n",
       "  <thead>\n",
       "    <tr style=\"text-align: right;\">\n",
       "      <th></th>\n",
       "      <th>Retailer</th>\n",
       "      <th>RetailerID</th>\n",
       "      <th>InvoiceDate</th>\n",
       "      <th>Region</th>\n",
       "      <th>State</th>\n",
       "      <th>City</th>\n",
       "      <th>Product</th>\n",
       "      <th>PriceperUnit</th>\n",
       "      <th>UnitsSold</th>\n",
       "      <th>TotalSales</th>\n",
       "      <th>OperatingProfit</th>\n",
       "      <th>OperatingMargin</th>\n",
       "      <th>SalesMethod</th>\n",
       "    </tr>\n",
       "  </thead>\n",
       "  <tbody>\n",
       "    <tr>\n",
       "      <th>0</th>\n",
       "      <td>Foot Locker</td>\n",
       "      <td>1185732</td>\n",
       "      <td>2020-02-03</td>\n",
       "      <td>Northeast</td>\n",
       "      <td>New York</td>\n",
       "      <td>New York</td>\n",
       "      <td>Women's Athletic Footwear</td>\n",
       "      <td>45.0</td>\n",
       "      <td>825</td>\n",
       "      <td>371250.0</td>\n",
       "      <td>129937.5</td>\n",
       "      <td>0.35</td>\n",
       "      <td>Outlet</td>\n",
       "    </tr>\n",
       "    <tr>\n",
       "      <th>1</th>\n",
       "      <td>Foot Locker</td>\n",
       "      <td>1185732</td>\n",
       "      <td>2020-02-04</td>\n",
       "      <td>Northeast</td>\n",
       "      <td>New York</td>\n",
       "      <td>New York</td>\n",
       "      <td>Men's Apparel</td>\n",
       "      <td>60.0</td>\n",
       "      <td>825</td>\n",
       "      <td>495000.0</td>\n",
       "      <td>148500.0</td>\n",
       "      <td>0.30</td>\n",
       "      <td>Outlet</td>\n",
       "    </tr>\n",
       "    <tr>\n",
       "      <th>2</th>\n",
       "      <td>Foot Locker</td>\n",
       "      <td>1185732</td>\n",
       "      <td>2020-02-05</td>\n",
       "      <td>Northeast</td>\n",
       "      <td>New York</td>\n",
       "      <td>New York</td>\n",
       "      <td>Women's Apparel</td>\n",
       "      <td>50.0</td>\n",
       "      <td>950</td>\n",
       "      <td>475000.0</td>\n",
       "      <td>118750.0</td>\n",
       "      <td>0.25</td>\n",
       "      <td>Outlet</td>\n",
       "    </tr>\n",
       "    <tr>\n",
       "      <th>3</th>\n",
       "      <td>Foot Locker</td>\n",
       "      <td>1185732</td>\n",
       "      <td>2020-02-06</td>\n",
       "      <td>Northeast</td>\n",
       "      <td>New York</td>\n",
       "      <td>New York</td>\n",
       "      <td>Men's Street Footwear</td>\n",
       "      <td>60.0</td>\n",
       "      <td>1220</td>\n",
       "      <td>732000.0</td>\n",
       "      <td>366000.0</td>\n",
       "      <td>0.50</td>\n",
       "      <td>Outlet</td>\n",
       "    </tr>\n",
       "    <tr>\n",
       "      <th>4</th>\n",
       "      <td>Foot Locker</td>\n",
       "      <td>1185732</td>\n",
       "      <td>2020-02-07</td>\n",
       "      <td>Northeast</td>\n",
       "      <td>New York</td>\n",
       "      <td>New York</td>\n",
       "      <td>Men's Athletic Footwear</td>\n",
       "      <td>55.0</td>\n",
       "      <td>925</td>\n",
       "      <td>508750.0</td>\n",
       "      <td>152625.0</td>\n",
       "      <td>0.30</td>\n",
       "      <td>Outlet</td>\n",
       "    </tr>\n",
       "    <tr>\n",
       "      <th>5</th>\n",
       "      <td>Foot Locker</td>\n",
       "      <td>1185732</td>\n",
       "      <td>2020-02-08</td>\n",
       "      <td>Northeast</td>\n",
       "      <td>New York</td>\n",
       "      <td>New York</td>\n",
       "      <td>Women's Street Footwear</td>\n",
       "      <td>50.0</td>\n",
       "      <td>900</td>\n",
       "      <td>450000.0</td>\n",
       "      <td>157500.0</td>\n",
       "      <td>0.35</td>\n",
       "      <td>Outlet</td>\n",
       "    </tr>\n",
       "    <tr>\n",
       "      <th>6</th>\n",
       "      <td>Foot Locker</td>\n",
       "      <td>1185732</td>\n",
       "      <td>2020-01-01</td>\n",
       "      <td>Northeast</td>\n",
       "      <td>New York</td>\n",
       "      <td>New York</td>\n",
       "      <td>Men's Street Footwear</td>\n",
       "      <td>50.0</td>\n",
       "      <td>1200</td>\n",
       "      <td>382500.0</td>\n",
       "      <td>133800.0</td>\n",
       "      <td>0.50</td>\n",
       "      <td>In-store</td>\n",
       "    </tr>\n",
       "    <tr>\n",
       "      <th>7</th>\n",
       "      <td>Foot Locker</td>\n",
       "      <td>1185732</td>\n",
       "      <td>2020-01-02</td>\n",
       "      <td>Northeast</td>\n",
       "      <td>New York</td>\n",
       "      <td>New York</td>\n",
       "      <td>Men's Athletic Footwear</td>\n",
       "      <td>50.0</td>\n",
       "      <td>1000</td>\n",
       "      <td>500000.0</td>\n",
       "      <td>150000.0</td>\n",
       "      <td>0.30</td>\n",
       "      <td>In-store</td>\n",
       "    </tr>\n",
       "    <tr>\n",
       "      <th>8</th>\n",
       "      <td>Foot Locker</td>\n",
       "      <td>1185732</td>\n",
       "      <td>2020-01-03</td>\n",
       "      <td>Northeast</td>\n",
       "      <td>New York</td>\n",
       "      <td>New York</td>\n",
       "      <td>Women's Street Footwear</td>\n",
       "      <td>40.0</td>\n",
       "      <td>1000</td>\n",
       "      <td>400000.0</td>\n",
       "      <td>140000.0</td>\n",
       "      <td>0.35</td>\n",
       "      <td>In-store</td>\n",
       "    </tr>\n",
       "    <tr>\n",
       "      <th>9</th>\n",
       "      <td>Foot Locker</td>\n",
       "      <td>1185732</td>\n",
       "      <td>2020-01-04</td>\n",
       "      <td>Northeast</td>\n",
       "      <td>New York</td>\n",
       "      <td>New York</td>\n",
       "      <td>Women's Athletic Footwear</td>\n",
       "      <td>45.0</td>\n",
       "      <td>850</td>\n",
       "      <td>382500.0</td>\n",
       "      <td>133875.0</td>\n",
       "      <td>0.35</td>\n",
       "      <td>In-store</td>\n",
       "    </tr>\n",
       "  </tbody>\n",
       "</table>\n",
       "</div>"
      ],
      "text/plain": [
       "      Retailer  RetailerID InvoiceDate     Region     State      City  \\\n",
       "0  Foot Locker     1185732  2020-02-03  Northeast  New York  New York   \n",
       "1  Foot Locker     1185732  2020-02-04  Northeast  New York  New York   \n",
       "2  Foot Locker     1185732  2020-02-05  Northeast  New York  New York   \n",
       "3  Foot Locker     1185732  2020-02-06  Northeast  New York  New York   \n",
       "4  Foot Locker     1185732  2020-02-07  Northeast  New York  New York   \n",
       "5  Foot Locker     1185732  2020-02-08  Northeast  New York  New York   \n",
       "6  Foot Locker     1185732  2020-01-01  Northeast  New York  New York   \n",
       "7  Foot Locker     1185732  2020-01-02  Northeast  New York  New York   \n",
       "8  Foot Locker     1185732  2020-01-03  Northeast  New York  New York   \n",
       "9  Foot Locker     1185732  2020-01-04  Northeast  New York  New York   \n",
       "\n",
       "                     Product  PriceperUnit  UnitsSold  TotalSales  \\\n",
       "0  Women's Athletic Footwear          45.0        825    371250.0   \n",
       "1              Men's Apparel          60.0        825    495000.0   \n",
       "2            Women's Apparel          50.0        950    475000.0   \n",
       "3      Men's Street Footwear          60.0       1220    732000.0   \n",
       "4    Men's Athletic Footwear          55.0        925    508750.0   \n",
       "5    Women's Street Footwear          50.0        900    450000.0   \n",
       "6      Men's Street Footwear          50.0       1200    382500.0   \n",
       "7    Men's Athletic Footwear          50.0       1000    500000.0   \n",
       "8    Women's Street Footwear          40.0       1000    400000.0   \n",
       "9  Women's Athletic Footwear          45.0        850    382500.0   \n",
       "\n",
       "   OperatingProfit  OperatingMargin SalesMethod  \n",
       "0         129937.5             0.35      Outlet  \n",
       "1         148500.0             0.30      Outlet  \n",
       "2         118750.0             0.25      Outlet  \n",
       "3         366000.0             0.50      Outlet  \n",
       "4         152625.0             0.30      Outlet  \n",
       "5         157500.0             0.35      Outlet  \n",
       "6         133800.0             0.50    In-store  \n",
       "7         150000.0             0.30    In-store  \n",
       "8         140000.0             0.35    In-store  \n",
       "9         133875.0             0.35    In-store  "
      ]
     },
     "execution_count": 6,
     "metadata": {},
     "output_type": "execute_result"
    }
   ],
   "source": [
    "df.head(10)"
   ]
  },
  {
   "cell_type": "code",
   "execution_count": 7,
   "metadata": {},
   "outputs": [
    {
     "data": {
      "application/vnd.plotly.v1+json": {
       "config": {
        "plotlyServerURL": "https://plot.ly"
       },
       "data": [
        {
         "hovertemplate": "InvoiceDate=%{x}<br>TotalSales=%{y}<extra></extra>",
         "legendgroup": "",
         "line": {
          "color": "#000001",
          "dash": "solid"
         },
         "marker": {
          "symbol": "circle"
         },
         "mode": "lines",
         "name": "",
         "orientation": "v",
         "showlegend": false,
         "type": "scatter",
         "x": [
          "2020-01",
          "2020-02",
          "2020-03",
          "2020-04",
          "2020-05",
          "2020-06",
          "2020-07",
          "2020-08",
          "2020-09",
          "2020-10",
          "2020-11",
          "2020-12",
          "2021-01",
          "2021-02",
          "2021-03",
          "2021-04",
          "2021-05",
          "2021-06",
          "2021-07",
          "2021-08",
          "2021-09",
          "2021-10",
          "2021-11",
          "2021-12"
         ],
         "xaxis": "x",
         "y": [
          16036246,
          14997988,
          17660577,
          24607006,
          16918014,
          8829819,
          17146013,
          19877980,
          18304436,
          10836269.000000002,
          8622300,
          8026527,
          55225396,
          46102165,
          39148532,
          47732964,
          63589681,
          65917553,
          78334681,
          72288221,
          59357023.00000001,
          53074764.00000001,
          59235040.00000001,
          77815430
         ],
         "yaxis": "y"
        }
       ],
       "layout": {
        "legend": {
         "tracegroupgap": 0
        },
        "template": {
         "data": {
          "candlestick": [
           {
            "decreasing": {
             "line": {
              "color": "#000033"
             }
            },
            "increasing": {
             "line": {
              "color": "#000032"
             }
            },
            "type": "candlestick"
           }
          ],
          "contour": [
           {
            "colorscale": [
             [
              0,
              "#000011"
             ],
             [
              0.1111111111111111,
              "#000012"
             ],
             [
              0.2222222222222222,
              "#000013"
             ],
             [
              0.3333333333333333,
              "#000014"
             ],
             [
              0.4444444444444444,
              "#000015"
             ],
             [
              0.5555555555555556,
              "#000016"
             ],
             [
              0.6666666666666666,
              "#000017"
             ],
             [
              0.7777777777777778,
              "#000018"
             ],
             [
              0.8888888888888888,
              "#000019"
             ],
             [
              1,
              "#000020"
             ]
            ],
            "type": "contour"
           }
          ],
          "contourcarpet": [
           {
            "colorscale": [
             [
              0,
              "#000011"
             ],
             [
              0.1111111111111111,
              "#000012"
             ],
             [
              0.2222222222222222,
              "#000013"
             ],
             [
              0.3333333333333333,
              "#000014"
             ],
             [
              0.4444444444444444,
              "#000015"
             ],
             [
              0.5555555555555556,
              "#000016"
             ],
             [
              0.6666666666666666,
              "#000017"
             ],
             [
              0.7777777777777778,
              "#000018"
             ],
             [
              0.8888888888888888,
              "#000019"
             ],
             [
              1,
              "#000020"
             ]
            ],
            "type": "contourcarpet"
           }
          ],
          "heatmap": [
           {
            "colorscale": [
             [
              0,
              "#000011"
             ],
             [
              0.1111111111111111,
              "#000012"
             ],
             [
              0.2222222222222222,
              "#000013"
             ],
             [
              0.3333333333333333,
              "#000014"
             ],
             [
              0.4444444444444444,
              "#000015"
             ],
             [
              0.5555555555555556,
              "#000016"
             ],
             [
              0.6666666666666666,
              "#000017"
             ],
             [
              0.7777777777777778,
              "#000018"
             ],
             [
              0.8888888888888888,
              "#000019"
             ],
             [
              1,
              "#000020"
             ]
            ],
            "type": "heatmap"
           }
          ],
          "histogram2d": [
           {
            "colorscale": [
             [
              0,
              "#000011"
             ],
             [
              0.1111111111111111,
              "#000012"
             ],
             [
              0.2222222222222222,
              "#000013"
             ],
             [
              0.3333333333333333,
              "#000014"
             ],
             [
              0.4444444444444444,
              "#000015"
             ],
             [
              0.5555555555555556,
              "#000016"
             ],
             [
              0.6666666666666666,
              "#000017"
             ],
             [
              0.7777777777777778,
              "#000018"
             ],
             [
              0.8888888888888888,
              "#000019"
             ],
             [
              1,
              "#000020"
             ]
            ],
            "type": "histogram2d"
           }
          ],
          "icicle": [
           {
            "textfont": {
             "color": "white"
            },
            "type": "icicle"
           }
          ],
          "sankey": [
           {
            "textfont": {
             "color": "#000036"
            },
            "type": "sankey"
           }
          ],
          "scatter": [
           {
            "marker": {
             "line": {
              "width": 0
             }
            },
            "type": "scatter"
           }
          ],
          "table": [
           {
            "cells": {
             "fill": {
              "color": "#000038"
             },
             "font": {
              "color": "#000037"
             },
             "line": {
              "color": "#000039"
             }
            },
            "header": {
             "fill": {
              "color": "#000040"
             },
             "font": {
              "color": "#000036"
             },
             "line": {
              "color": "#000039"
             }
            },
            "type": "table"
           }
          ],
          "waterfall": [
           {
            "connector": {
             "line": {
              "color": "#000036",
              "width": 2
             }
            },
            "decreasing": {
             "marker": {
              "color": "#000033"
             }
            },
            "increasing": {
             "marker": {
              "color": "#000032"
             }
            },
            "totals": {
             "marker": {
              "color": "#000034"
             }
            },
            "type": "waterfall"
           }
          ]
         },
         "layout": {
          "coloraxis": {
           "colorscale": [
            [
             0,
             "#000011"
            ],
            [
             0.1111111111111111,
             "#000012"
            ],
            [
             0.2222222222222222,
             "#000013"
            ],
            [
             0.3333333333333333,
             "#000014"
            ],
            [
             0.4444444444444444,
             "#000015"
            ],
            [
             0.5555555555555556,
             "#000016"
            ],
            [
             0.6666666666666666,
             "#000017"
            ],
            [
             0.7777777777777778,
             "#000018"
            ],
            [
             0.8888888888888888,
             "#000019"
            ],
            [
             1,
             "#000020"
            ]
           ]
          },
          "colorscale": {
           "diverging": [
            [
             0,
             "#000021"
            ],
            [
             0.1,
             "#000022"
            ],
            [
             0.2,
             "#000023"
            ],
            [
             0.3,
             "#000024"
            ],
            [
             0.4,
             "#000025"
            ],
            [
             0.5,
             "#000026"
            ],
            [
             0.6,
             "#000027"
            ],
            [
             0.7,
             "#000028"
            ],
            [
             0.8,
             "#000029"
            ],
            [
             0.9,
             "#000030"
            ],
            [
             1,
             "#000031"
            ]
           ],
           "sequential": [
            [
             0,
             "#000011"
            ],
            [
             0.1111111111111111,
             "#000012"
            ],
            [
             0.2222222222222222,
             "#000013"
            ],
            [
             0.3333333333333333,
             "#000014"
            ],
            [
             0.4444444444444444,
             "#000015"
            ],
            [
             0.5555555555555556,
             "#000016"
            ],
            [
             0.6666666666666666,
             "#000017"
            ],
            [
             0.7777777777777778,
             "#000018"
            ],
            [
             0.8888888888888888,
             "#000019"
            ],
            [
             1,
             "#000020"
            ]
           ],
           "sequentialminus": [
            [
             0,
             "#000011"
            ],
            [
             0.1111111111111111,
             "#000012"
            ],
            [
             0.2222222222222222,
             "#000013"
            ],
            [
             0.3333333333333333,
             "#000014"
            ],
            [
             0.4444444444444444,
             "#000015"
            ],
            [
             0.5555555555555556,
             "#000016"
            ],
            [
             0.6666666666666666,
             "#000017"
            ],
            [
             0.7777777777777778,
             "#000018"
            ],
            [
             0.8888888888888888,
             "#000019"
            ],
            [
             1,
             "#000020"
            ]
           ]
          },
          "colorway": [
           "#000001",
           "#000002",
           "#000003",
           "#000004",
           "#000005",
           "#000006",
           "#000007",
           "#000008",
           "#000009",
           "#000010"
          ]
         }
        },
        "title": {
         "text": "Total Sales Over Time"
        },
        "xaxis": {
         "anchor": "y",
         "domain": [
          0,
          1
         ],
         "tickformat": "%Y-%m",
         "title": {
          "text": "Year"
         }
        },
        "yaxis": {
         "anchor": "x",
         "domain": [
          0,
          1
         ],
         "title": {
          "text": "Total Sales"
         }
        }
       }
      }
     },
     "metadata": {},
     "output_type": "display_data"
    },
    {
     "data": {
      "text/plain": [
       "48"
      ]
     },
     "execution_count": 7,
     "metadata": {},
     "output_type": "execute_result"
    },
    {
     "data": {
      "text/plain": [
       "<Figure size 640x480 with 0 Axes>"
      ]
     },
     "metadata": {},
     "output_type": "display_data"
    }
   ],
   "source": [
    "# Graph Logic \n",
    "\n",
    "# 1. Convert 'InvoiceDate' to datetime format \n",
    "df['InvoiceDate'] = pd.to_datetime(df['InvoiceDate'])\n",
    "\n",
    "# Format the dates to \"yyyy-mm\" format\n",
    "df['InvoiceDate'] = df['InvoiceDate'].dt.strftime('%Y-%m')\n",
    "\n",
    "# 2. Group data by year, month, etc. (choose your desired time granularity)\n",
    "total_sales_over_time = df.groupby([df['InvoiceDate']])['TotalSales'].sum().reset_index()\n",
    "\n",
    "# 3. Create the plot\n",
    "fig = px.line(\n",
    "    data_frame=total_sales_over_time,\n",
    "    x='InvoiceDate',  # Replace with your time column name if different\n",
    "    y='TotalSales',\n",
    "    title='Total Sales Over Time'\n",
    ")\n",
    "\n",
    "# 4. Customize the plot \n",
    "fig.update_layout(\n",
    "    xaxis_title='Year',  # Adjust title based on your time granularity\n",
    "    yaxis_title='Total Sales',\n",
    "    xaxis_tickformat=\"%Y-%m\"\n",
    ")\n",
    "\n",
    "fig.show()\n",
    "plt.savefig('overtime.png', dpi=300)\n",
    "total_sales_over_time.size"
   ]
  },
  {
   "cell_type": "markdown",
   "metadata": {},
   "source": [
    "Total Sales and Units Sold by State"
   ]
  },
  {
   "cell_type": "code",
   "execution_count": 8,
   "metadata": {},
   "outputs": [
    {
     "data": {
      "text/html": [
       "<div>\n",
       "<style scoped>\n",
       "    .dataframe tbody tr th:only-of-type {\n",
       "        vertical-align: middle;\n",
       "    }\n",
       "\n",
       "    .dataframe tbody tr th {\n",
       "        vertical-align: top;\n",
       "    }\n",
       "\n",
       "    .dataframe thead th {\n",
       "        text-align: right;\n",
       "    }\n",
       "</style>\n",
       "<table border=\"1\" class=\"dataframe\">\n",
       "  <thead>\n",
       "    <tr style=\"text-align: right;\">\n",
       "      <th></th>\n",
       "      <th>Retailer</th>\n",
       "      <th>RetailerID</th>\n",
       "      <th>InvoiceDate</th>\n",
       "      <th>Region</th>\n",
       "      <th>State</th>\n",
       "      <th>City</th>\n",
       "      <th>Product</th>\n",
       "      <th>PriceperUnit</th>\n",
       "      <th>UnitsSold</th>\n",
       "      <th>TotalSales</th>\n",
       "      <th>OperatingProfit</th>\n",
       "      <th>OperatingMargin</th>\n",
       "      <th>SalesMethod</th>\n",
       "    </tr>\n",
       "  </thead>\n",
       "  <tbody>\n",
       "    <tr>\n",
       "      <th>0</th>\n",
       "      <td>Foot Locker</td>\n",
       "      <td>1185732</td>\n",
       "      <td>2020-02</td>\n",
       "      <td>Northeast</td>\n",
       "      <td>New York</td>\n",
       "      <td>New York</td>\n",
       "      <td>Women's Athletic Footwear</td>\n",
       "      <td>45.0</td>\n",
       "      <td>825</td>\n",
       "      <td>371250.0</td>\n",
       "      <td>129937.5</td>\n",
       "      <td>0.35</td>\n",
       "      <td>Outlet</td>\n",
       "    </tr>\n",
       "    <tr>\n",
       "      <th>1</th>\n",
       "      <td>Foot Locker</td>\n",
       "      <td>1185732</td>\n",
       "      <td>2020-02</td>\n",
       "      <td>Northeast</td>\n",
       "      <td>New York</td>\n",
       "      <td>New York</td>\n",
       "      <td>Men's Apparel</td>\n",
       "      <td>60.0</td>\n",
       "      <td>825</td>\n",
       "      <td>495000.0</td>\n",
       "      <td>148500.0</td>\n",
       "      <td>0.30</td>\n",
       "      <td>Outlet</td>\n",
       "    </tr>\n",
       "    <tr>\n",
       "      <th>2</th>\n",
       "      <td>Foot Locker</td>\n",
       "      <td>1185732</td>\n",
       "      <td>2020-02</td>\n",
       "      <td>Northeast</td>\n",
       "      <td>New York</td>\n",
       "      <td>New York</td>\n",
       "      <td>Women's Apparel</td>\n",
       "      <td>50.0</td>\n",
       "      <td>950</td>\n",
       "      <td>475000.0</td>\n",
       "      <td>118750.0</td>\n",
       "      <td>0.25</td>\n",
       "      <td>Outlet</td>\n",
       "    </tr>\n",
       "    <tr>\n",
       "      <th>3</th>\n",
       "      <td>Foot Locker</td>\n",
       "      <td>1185732</td>\n",
       "      <td>2020-02</td>\n",
       "      <td>Northeast</td>\n",
       "      <td>New York</td>\n",
       "      <td>New York</td>\n",
       "      <td>Men's Street Footwear</td>\n",
       "      <td>60.0</td>\n",
       "      <td>1220</td>\n",
       "      <td>732000.0</td>\n",
       "      <td>366000.0</td>\n",
       "      <td>0.50</td>\n",
       "      <td>Outlet</td>\n",
       "    </tr>\n",
       "    <tr>\n",
       "      <th>4</th>\n",
       "      <td>Foot Locker</td>\n",
       "      <td>1185732</td>\n",
       "      <td>2020-02</td>\n",
       "      <td>Northeast</td>\n",
       "      <td>New York</td>\n",
       "      <td>New York</td>\n",
       "      <td>Men's Athletic Footwear</td>\n",
       "      <td>55.0</td>\n",
       "      <td>925</td>\n",
       "      <td>508750.0</td>\n",
       "      <td>152625.0</td>\n",
       "      <td>0.30</td>\n",
       "      <td>Outlet</td>\n",
       "    </tr>\n",
       "  </tbody>\n",
       "</table>\n",
       "</div>"
      ],
      "text/plain": [
       "      Retailer  RetailerID InvoiceDate     Region     State      City  \\\n",
       "0  Foot Locker     1185732     2020-02  Northeast  New York  New York   \n",
       "1  Foot Locker     1185732     2020-02  Northeast  New York  New York   \n",
       "2  Foot Locker     1185732     2020-02  Northeast  New York  New York   \n",
       "3  Foot Locker     1185732     2020-02  Northeast  New York  New York   \n",
       "4  Foot Locker     1185732     2020-02  Northeast  New York  New York   \n",
       "\n",
       "                     Product  PriceperUnit  UnitsSold  TotalSales  \\\n",
       "0  Women's Athletic Footwear          45.0        825    371250.0   \n",
       "1              Men's Apparel          60.0        825    495000.0   \n",
       "2            Women's Apparel          50.0        950    475000.0   \n",
       "3      Men's Street Footwear          60.0       1220    732000.0   \n",
       "4    Men's Athletic Footwear          55.0        925    508750.0   \n",
       "\n",
       "   OperatingProfit  OperatingMargin SalesMethod  \n",
       "0         129937.5             0.35      Outlet  \n",
       "1         148500.0             0.30      Outlet  \n",
       "2         118750.0             0.25      Outlet  \n",
       "3         366000.0             0.50      Outlet  \n",
       "4         152625.0             0.30      Outlet  "
      ]
     },
     "execution_count": 8,
     "metadata": {},
     "output_type": "execute_result"
    }
   ],
   "source": [
    "df.head()"
   ]
  },
  {
   "cell_type": "code",
   "execution_count": 9,
   "metadata": {},
   "outputs": [
    {
     "data": {
      "application/vnd.plotly.v1+json": {
       "config": {
        "plotlyServerURL": "https://plot.ly"
       },
       "data": [
        {
         "alignmentgroup": "True",
         "hovertemplate": "index=%{x}<br>State=%{y}<extra></extra>",
         "legendgroup": "",
         "marker": {
          "color": "blue",
          "pattern": {
           "shape": ""
          }
         },
         "name": "",
         "offsetgroup": "",
         "orientation": "v",
         "showlegend": false,
         "textposition": "auto",
         "type": "bar",
         "x": [
          "Alabama",
          "Alaska",
          "Arizona",
          "Arkansas",
          "California",
          "Colorado",
          "Connecticut",
          "Delaware",
          "Florida",
          "Georgia",
          "Hawaii",
          "Idaho",
          "Illinois",
          "Indiana",
          "Iowa",
          "Kansas",
          "Kentucky",
          "Louisiana",
          "Maine",
          "Maryland",
          "Massachusetts",
          "Michigan",
          "Minnesota",
          "Mississippi",
          "Missouri",
          "Montana",
          "Nebraska",
          "Nevada",
          "New Hampshire",
          "New Jersey",
          "New Mexico",
          "New York",
          "North Carolina",
          "North Dakota",
          "Ohio",
          "Oklahoma",
          "Oregon",
          "Pennsylvania",
          "Rhode Island",
          "South Carolina",
          "South Dakota",
          "Tennessee",
          "Texas",
          "Utah",
          "Vermont",
          "Virginia",
          "Washington",
          "West Virginia",
          "Wisconsin",
          "Wyoming"
         ],
         "xaxis": "x",
         "y": [
          17633424,
          14753103.000000002,
          15782221.000000002,
          12639347,
          60174133,
          20996536,
          11573448,
          12298412,
          59283714.00000001,
          18997466,
          22282457,
          19276878,
          9797488,
          8836198,
          7424011,
          9972864,
          10072848,
          23750781.000000004,
          9195978,
          7758059,
          11076810,
          18625433,
          7378068,
          15591709.000000002,
          9683265,
          15710886,
          5929038,
          20858509,
          16411667.000000002,
          9934246,
          19865016.000000004,
          64011539,
          23956531,
          7735580,
          18484583,
          10620734,
          21349674,
          10357519,
          8446806,
          29285637,
          8495576,
          18067440,
          46359746,
          9696420,
          14352923,
          21575040,
          26330718.000000004,
          10689160,
          7727469,
          18577517
         ],
         "yaxis": "y"
        }
       ],
       "layout": {
        "barmode": "relative",
        "legend": {
         "tracegroupgap": 0
        },
        "margin": {
         "t": 60
        },
        "template": {
         "data": {
          "candlestick": [
           {
            "decreasing": {
             "line": {
              "color": "#000033"
             }
            },
            "increasing": {
             "line": {
              "color": "#000032"
             }
            },
            "type": "candlestick"
           }
          ],
          "contour": [
           {
            "colorscale": [
             [
              0,
              "#000011"
             ],
             [
              0.1111111111111111,
              "#000012"
             ],
             [
              0.2222222222222222,
              "#000013"
             ],
             [
              0.3333333333333333,
              "#000014"
             ],
             [
              0.4444444444444444,
              "#000015"
             ],
             [
              0.5555555555555556,
              "#000016"
             ],
             [
              0.6666666666666666,
              "#000017"
             ],
             [
              0.7777777777777778,
              "#000018"
             ],
             [
              0.8888888888888888,
              "#000019"
             ],
             [
              1,
              "#000020"
             ]
            ],
            "type": "contour"
           }
          ],
          "contourcarpet": [
           {
            "colorscale": [
             [
              0,
              "#000011"
             ],
             [
              0.1111111111111111,
              "#000012"
             ],
             [
              0.2222222222222222,
              "#000013"
             ],
             [
              0.3333333333333333,
              "#000014"
             ],
             [
              0.4444444444444444,
              "#000015"
             ],
             [
              0.5555555555555556,
              "#000016"
             ],
             [
              0.6666666666666666,
              "#000017"
             ],
             [
              0.7777777777777778,
              "#000018"
             ],
             [
              0.8888888888888888,
              "#000019"
             ],
             [
              1,
              "#000020"
             ]
            ],
            "type": "contourcarpet"
           }
          ],
          "heatmap": [
           {
            "colorscale": [
             [
              0,
              "#000011"
             ],
             [
              0.1111111111111111,
              "#000012"
             ],
             [
              0.2222222222222222,
              "#000013"
             ],
             [
              0.3333333333333333,
              "#000014"
             ],
             [
              0.4444444444444444,
              "#000015"
             ],
             [
              0.5555555555555556,
              "#000016"
             ],
             [
              0.6666666666666666,
              "#000017"
             ],
             [
              0.7777777777777778,
              "#000018"
             ],
             [
              0.8888888888888888,
              "#000019"
             ],
             [
              1,
              "#000020"
             ]
            ],
            "type": "heatmap"
           }
          ],
          "histogram2d": [
           {
            "colorscale": [
             [
              0,
              "#000011"
             ],
             [
              0.1111111111111111,
              "#000012"
             ],
             [
              0.2222222222222222,
              "#000013"
             ],
             [
              0.3333333333333333,
              "#000014"
             ],
             [
              0.4444444444444444,
              "#000015"
             ],
             [
              0.5555555555555556,
              "#000016"
             ],
             [
              0.6666666666666666,
              "#000017"
             ],
             [
              0.7777777777777778,
              "#000018"
             ],
             [
              0.8888888888888888,
              "#000019"
             ],
             [
              1,
              "#000020"
             ]
            ],
            "type": "histogram2d"
           }
          ],
          "icicle": [
           {
            "textfont": {
             "color": "white"
            },
            "type": "icicle"
           }
          ],
          "sankey": [
           {
            "textfont": {
             "color": "#000036"
            },
            "type": "sankey"
           }
          ],
          "scatter": [
           {
            "marker": {
             "line": {
              "width": 0
             }
            },
            "type": "scatter"
           }
          ],
          "table": [
           {
            "cells": {
             "fill": {
              "color": "#000038"
             },
             "font": {
              "color": "#000037"
             },
             "line": {
              "color": "#000039"
             }
            },
            "header": {
             "fill": {
              "color": "#000040"
             },
             "font": {
              "color": "#000036"
             },
             "line": {
              "color": "#000039"
             }
            },
            "type": "table"
           }
          ],
          "waterfall": [
           {
            "connector": {
             "line": {
              "color": "#000036",
              "width": 2
             }
            },
            "decreasing": {
             "marker": {
              "color": "#000033"
             }
            },
            "increasing": {
             "marker": {
              "color": "#000032"
             }
            },
            "totals": {
             "marker": {
              "color": "#000034"
             }
            },
            "type": "waterfall"
           }
          ]
         },
         "layout": {
          "coloraxis": {
           "colorscale": [
            [
             0,
             "#000011"
            ],
            [
             0.1111111111111111,
             "#000012"
            ],
            [
             0.2222222222222222,
             "#000013"
            ],
            [
             0.3333333333333333,
             "#000014"
            ],
            [
             0.4444444444444444,
             "#000015"
            ],
            [
             0.5555555555555556,
             "#000016"
            ],
            [
             0.6666666666666666,
             "#000017"
            ],
            [
             0.7777777777777778,
             "#000018"
            ],
            [
             0.8888888888888888,
             "#000019"
            ],
            [
             1,
             "#000020"
            ]
           ]
          },
          "colorscale": {
           "diverging": [
            [
             0,
             "#000021"
            ],
            [
             0.1,
             "#000022"
            ],
            [
             0.2,
             "#000023"
            ],
            [
             0.3,
             "#000024"
            ],
            [
             0.4,
             "#000025"
            ],
            [
             0.5,
             "#000026"
            ],
            [
             0.6,
             "#000027"
            ],
            [
             0.7,
             "#000028"
            ],
            [
             0.8,
             "#000029"
            ],
            [
             0.9,
             "#000030"
            ],
            [
             1,
             "#000031"
            ]
           ],
           "sequential": [
            [
             0,
             "#000011"
            ],
            [
             0.1111111111111111,
             "#000012"
            ],
            [
             0.2222222222222222,
             "#000013"
            ],
            [
             0.3333333333333333,
             "#000014"
            ],
            [
             0.4444444444444444,
             "#000015"
            ],
            [
             0.5555555555555556,
             "#000016"
            ],
            [
             0.6666666666666666,
             "#000017"
            ],
            [
             0.7777777777777778,
             "#000018"
            ],
            [
             0.8888888888888888,
             "#000019"
            ],
            [
             1,
             "#000020"
            ]
           ],
           "sequentialminus": [
            [
             0,
             "#000011"
            ],
            [
             0.1111111111111111,
             "#000012"
            ],
            [
             0.2222222222222222,
             "#000013"
            ],
            [
             0.3333333333333333,
             "#000014"
            ],
            [
             0.4444444444444444,
             "#000015"
            ],
            [
             0.5555555555555556,
             "#000016"
            ],
            [
             0.6666666666666666,
             "#000017"
            ],
            [
             0.7777777777777778,
             "#000018"
            ],
            [
             0.8888888888888888,
             "#000019"
            ],
            [
             1,
             "#000020"
            ]
           ]
          },
          "colorway": [
           "#000001",
           "#000002",
           "#000003",
           "#000004",
           "#000005",
           "#000006",
           "#000007",
           "#000008",
           "#000009",
           "#000010"
          ]
         }
        },
        "xaxis": {
         "anchor": "y",
         "domain": [
          0,
          1
         ],
         "title": {
          "text": "State"
         }
        },
        "yaxis": {
         "anchor": "x",
         "domain": [
          0,
          1
         ],
         "title": {
          "text": "Total Sales"
         }
        }
       }
      }
     },
     "metadata": {},
     "output_type": "display_data"
    },
    {
     "data": {
      "application/vnd.plotly.v1+json": {
       "config": {
        "plotlyServerURL": "https://plot.ly"
       },
       "data": [
        {
         "hovertemplate": "index=%{x}<br>State=%{y}<extra></extra>",
         "legendgroup": "",
         "line": {
          "color": "blue",
          "dash": "solid"
         },
         "marker": {
          "symbol": "circle"
         },
         "mode": "lines",
         "name": "",
         "orientation": "v",
         "showlegend": false,
         "type": "scatter",
         "x": [
          "Alabama",
          "Alaska",
          "Arizona",
          "Arkansas",
          "California",
          "Colorado",
          "Connecticut",
          "Delaware",
          "Florida",
          "Georgia",
          "Hawaii",
          "Idaho",
          "Illinois",
          "Indiana",
          "Iowa",
          "Kansas",
          "Kentucky",
          "Louisiana",
          "Maine",
          "Maryland",
          "Massachusetts",
          "Michigan",
          "Minnesota",
          "Mississippi",
          "Missouri",
          "Montana",
          "Nebraska",
          "Nevada",
          "New Hampshire",
          "New Jersey",
          "New Mexico",
          "New York",
          "North Carolina",
          "North Dakota",
          "Ohio",
          "Oklahoma",
          "Oregon",
          "Pennsylvania",
          "Rhode Island",
          "South Carolina",
          "South Dakota",
          "Tennessee",
          "Texas",
          "Utah",
          "Vermont",
          "Virginia",
          "Washington",
          "West Virginia",
          "Wisconsin",
          "Wyoming"
         ],
         "xaxis": "x",
         "y": [
          63327,
          30815,
          46919,
          48468,
          163284,
          41378,
          34696,
          30275,
          133430,
          56391,
          40375,
          63827,
          25407,
          26332,
          23446,
          29463,
          28664,
          57615,
          22410,
          20818,
          32895,
          50095,
          20838,
          56814,
          36404,
          42713,
          19154,
          51831,
          40812,
          26540,
          52633,
          169140,
          62936,
          22781,
          47781,
          40459,
          50536,
          27662,
          27473,
          72610,
          22973,
          66077,
          159500,
          48548,
          38685,
          52969,
          46611,
          29873,
          23950,
          50228
         ],
         "yaxis": "y"
        }
       ],
       "layout": {
        "legend": {
         "tracegroupgap": 0
        },
        "margin": {
         "t": 60
        },
        "template": {
         "data": {
          "candlestick": [
           {
            "decreasing": {
             "line": {
              "color": "#000033"
             }
            },
            "increasing": {
             "line": {
              "color": "#000032"
             }
            },
            "type": "candlestick"
           }
          ],
          "contour": [
           {
            "colorscale": [
             [
              0,
              "#000011"
             ],
             [
              0.1111111111111111,
              "#000012"
             ],
             [
              0.2222222222222222,
              "#000013"
             ],
             [
              0.3333333333333333,
              "#000014"
             ],
             [
              0.4444444444444444,
              "#000015"
             ],
             [
              0.5555555555555556,
              "#000016"
             ],
             [
              0.6666666666666666,
              "#000017"
             ],
             [
              0.7777777777777778,
              "#000018"
             ],
             [
              0.8888888888888888,
              "#000019"
             ],
             [
              1,
              "#000020"
             ]
            ],
            "type": "contour"
           }
          ],
          "contourcarpet": [
           {
            "colorscale": [
             [
              0,
              "#000011"
             ],
             [
              0.1111111111111111,
              "#000012"
             ],
             [
              0.2222222222222222,
              "#000013"
             ],
             [
              0.3333333333333333,
              "#000014"
             ],
             [
              0.4444444444444444,
              "#000015"
             ],
             [
              0.5555555555555556,
              "#000016"
             ],
             [
              0.6666666666666666,
              "#000017"
             ],
             [
              0.7777777777777778,
              "#000018"
             ],
             [
              0.8888888888888888,
              "#000019"
             ],
             [
              1,
              "#000020"
             ]
            ],
            "type": "contourcarpet"
           }
          ],
          "heatmap": [
           {
            "colorscale": [
             [
              0,
              "#000011"
             ],
             [
              0.1111111111111111,
              "#000012"
             ],
             [
              0.2222222222222222,
              "#000013"
             ],
             [
              0.3333333333333333,
              "#000014"
             ],
             [
              0.4444444444444444,
              "#000015"
             ],
             [
              0.5555555555555556,
              "#000016"
             ],
             [
              0.6666666666666666,
              "#000017"
             ],
             [
              0.7777777777777778,
              "#000018"
             ],
             [
              0.8888888888888888,
              "#000019"
             ],
             [
              1,
              "#000020"
             ]
            ],
            "type": "heatmap"
           }
          ],
          "histogram2d": [
           {
            "colorscale": [
             [
              0,
              "#000011"
             ],
             [
              0.1111111111111111,
              "#000012"
             ],
             [
              0.2222222222222222,
              "#000013"
             ],
             [
              0.3333333333333333,
              "#000014"
             ],
             [
              0.4444444444444444,
              "#000015"
             ],
             [
              0.5555555555555556,
              "#000016"
             ],
             [
              0.6666666666666666,
              "#000017"
             ],
             [
              0.7777777777777778,
              "#000018"
             ],
             [
              0.8888888888888888,
              "#000019"
             ],
             [
              1,
              "#000020"
             ]
            ],
            "type": "histogram2d"
           }
          ],
          "icicle": [
           {
            "textfont": {
             "color": "white"
            },
            "type": "icicle"
           }
          ],
          "sankey": [
           {
            "textfont": {
             "color": "#000036"
            },
            "type": "sankey"
           }
          ],
          "scatter": [
           {
            "marker": {
             "line": {
              "width": 0
             }
            },
            "type": "scatter"
           }
          ],
          "table": [
           {
            "cells": {
             "fill": {
              "color": "#000038"
             },
             "font": {
              "color": "#000037"
             },
             "line": {
              "color": "#000039"
             }
            },
            "header": {
             "fill": {
              "color": "#000040"
             },
             "font": {
              "color": "#000036"
             },
             "line": {
              "color": "#000039"
             }
            },
            "type": "table"
           }
          ],
          "waterfall": [
           {
            "connector": {
             "line": {
              "color": "#000036",
              "width": 2
             }
            },
            "decreasing": {
             "marker": {
              "color": "#000033"
             }
            },
            "increasing": {
             "marker": {
              "color": "#000032"
             }
            },
            "totals": {
             "marker": {
              "color": "#000034"
             }
            },
            "type": "waterfall"
           }
          ]
         },
         "layout": {
          "coloraxis": {
           "colorscale": [
            [
             0,
             "#000011"
            ],
            [
             0.1111111111111111,
             "#000012"
            ],
            [
             0.2222222222222222,
             "#000013"
            ],
            [
             0.3333333333333333,
             "#000014"
            ],
            [
             0.4444444444444444,
             "#000015"
            ],
            [
             0.5555555555555556,
             "#000016"
            ],
            [
             0.6666666666666666,
             "#000017"
            ],
            [
             0.7777777777777778,
             "#000018"
            ],
            [
             0.8888888888888888,
             "#000019"
            ],
            [
             1,
             "#000020"
            ]
           ]
          },
          "colorscale": {
           "diverging": [
            [
             0,
             "#000021"
            ],
            [
             0.1,
             "#000022"
            ],
            [
             0.2,
             "#000023"
            ],
            [
             0.3,
             "#000024"
            ],
            [
             0.4,
             "#000025"
            ],
            [
             0.5,
             "#000026"
            ],
            [
             0.6,
             "#000027"
            ],
            [
             0.7,
             "#000028"
            ],
            [
             0.8,
             "#000029"
            ],
            [
             0.9,
             "#000030"
            ],
            [
             1,
             "#000031"
            ]
           ],
           "sequential": [
            [
             0,
             "#000011"
            ],
            [
             0.1111111111111111,
             "#000012"
            ],
            [
             0.2222222222222222,
             "#000013"
            ],
            [
             0.3333333333333333,
             "#000014"
            ],
            [
             0.4444444444444444,
             "#000015"
            ],
            [
             0.5555555555555556,
             "#000016"
            ],
            [
             0.6666666666666666,
             "#000017"
            ],
            [
             0.7777777777777778,
             "#000018"
            ],
            [
             0.8888888888888888,
             "#000019"
            ],
            [
             1,
             "#000020"
            ]
           ],
           "sequentialminus": [
            [
             0,
             "#000011"
            ],
            [
             0.1111111111111111,
             "#000012"
            ],
            [
             0.2222222222222222,
             "#000013"
            ],
            [
             0.3333333333333333,
             "#000014"
            ],
            [
             0.4444444444444444,
             "#000015"
            ],
            [
             0.5555555555555556,
             "#000016"
            ],
            [
             0.6666666666666666,
             "#000017"
            ],
            [
             0.7777777777777778,
             "#000018"
            ],
            [
             0.8888888888888888,
             "#000019"
            ],
            [
             1,
             "#000020"
            ]
           ]
          },
          "colorway": [
           "#000001",
           "#000002",
           "#000003",
           "#000004",
           "#000005",
           "#000006",
           "#000007",
           "#000008",
           "#000009",
           "#000010"
          ]
         }
        },
        "xaxis": {
         "anchor": "y",
         "domain": [
          0,
          1
         ],
         "title": {
          "text": "State"
         }
        },
        "yaxis": {
         "anchor": "x",
         "domain": [
          0,
          1
         ],
         "title": {
          "text": "Units Sold"
         }
        }
       }
      }
     },
     "metadata": {},
     "output_type": "display_data"
    },
    {
     "data": {
      "application/vnd.plotly.v1+json": {
       "config": {
        "plotlyServerURL": "https://plot.ly"
       },
       "data": [
        {
         "marker": {
          "color": "royalblue"
         },
         "name": "Total Sales",
         "type": "bar",
         "x": [
          "Alabama",
          "Alaska",
          "Arizona",
          "Arkansas",
          "California",
          "Colorado",
          "Connecticut",
          "Delaware",
          "Florida",
          "Georgia",
          "Hawaii",
          "Idaho",
          "Illinois",
          "Indiana",
          "Iowa",
          "Kansas",
          "Kentucky",
          "Louisiana",
          "Maine",
          "Maryland",
          "Massachusetts",
          "Michigan",
          "Minnesota",
          "Mississippi",
          "Missouri",
          "Montana",
          "Nebraska",
          "Nevada",
          "New Hampshire",
          "New Jersey",
          "New Mexico",
          "New York",
          "North Carolina",
          "North Dakota",
          "Ohio",
          "Oklahoma",
          "Oregon",
          "Pennsylvania",
          "Rhode Island",
          "South Carolina",
          "South Dakota",
          "Tennessee",
          "Texas",
          "Utah",
          "Vermont",
          "Virginia",
          "Washington",
          "West Virginia",
          "Wisconsin",
          "Wyoming"
         ],
         "y": [
          17633424,
          14753103.000000002,
          15782221.000000002,
          12639347,
          60174133,
          20996536,
          11573448,
          12298412,
          59283714.00000001,
          18997466,
          22282457,
          19276878,
          9797488,
          8836198,
          7424011,
          9972864,
          10072848,
          23750781.000000004,
          9195978,
          7758059,
          11076810,
          18625433,
          7378068,
          15591709.000000002,
          9683265,
          15710886,
          5929038,
          20858509,
          16411667.000000002,
          9934246,
          19865016.000000004,
          64011539,
          23956531,
          7735580,
          18484583,
          10620734,
          21349674,
          10357519,
          8446806,
          29285637,
          8495576,
          18067440,
          46359746,
          9696420,
          14352923,
          21575040,
          26330718.000000004,
          10689160,
          7727469,
          18577517
         ]
        },
        {
         "line": {
          "color": "orange"
         },
         "marker": {
          "opacity": 0
         },
         "name": "Units Sold",
         "type": "scatter",
         "x": [
          "Alabama",
          "Alaska",
          "Arizona",
          "Arkansas",
          "California",
          "Colorado",
          "Connecticut",
          "Delaware",
          "Florida",
          "Georgia",
          "Hawaii",
          "Idaho",
          "Illinois",
          "Indiana",
          "Iowa",
          "Kansas",
          "Kentucky",
          "Louisiana",
          "Maine",
          "Maryland",
          "Massachusetts",
          "Michigan",
          "Minnesota",
          "Mississippi",
          "Missouri",
          "Montana",
          "Nebraska",
          "Nevada",
          "New Hampshire",
          "New Jersey",
          "New Mexico",
          "New York",
          "North Carolina",
          "North Dakota",
          "Ohio",
          "Oklahoma",
          "Oregon",
          "Pennsylvania",
          "Rhode Island",
          "South Carolina",
          "South Dakota",
          "Tennessee",
          "Texas",
          "Utah",
          "Vermont",
          "Virginia",
          "Washington",
          "West Virginia",
          "Wisconsin",
          "Wyoming"
         ],
         "y": [
          63327,
          30815,
          46919,
          48468,
          163284,
          41378,
          34696,
          30275,
          133430,
          56391,
          40375,
          63827,
          25407,
          26332,
          23446,
          29463,
          28664,
          57615,
          22410,
          20818,
          32895,
          50095,
          20838,
          56814,
          36404,
          42713,
          19154,
          51831,
          40812,
          26540,
          52633,
          169140,
          62936,
          22781,
          47781,
          40459,
          50536,
          27662,
          27473,
          72610,
          22973,
          66077,
          159500,
          48548,
          38685,
          52969,
          46611,
          29873,
          23950,
          50228
         ],
         "yaxis": "y2"
        }
       ],
       "layout": {
        "template": {
         "data": {
          "candlestick": [
           {
            "decreasing": {
             "line": {
              "color": "#000033"
             }
            },
            "increasing": {
             "line": {
              "color": "#000032"
             }
            },
            "type": "candlestick"
           }
          ],
          "contour": [
           {
            "colorscale": [
             [
              0,
              "#000011"
             ],
             [
              0.1111111111111111,
              "#000012"
             ],
             [
              0.2222222222222222,
              "#000013"
             ],
             [
              0.3333333333333333,
              "#000014"
             ],
             [
              0.4444444444444444,
              "#000015"
             ],
             [
              0.5555555555555556,
              "#000016"
             ],
             [
              0.6666666666666666,
              "#000017"
             ],
             [
              0.7777777777777778,
              "#000018"
             ],
             [
              0.8888888888888888,
              "#000019"
             ],
             [
              1,
              "#000020"
             ]
            ],
            "type": "contour"
           }
          ],
          "contourcarpet": [
           {
            "colorscale": [
             [
              0,
              "#000011"
             ],
             [
              0.1111111111111111,
              "#000012"
             ],
             [
              0.2222222222222222,
              "#000013"
             ],
             [
              0.3333333333333333,
              "#000014"
             ],
             [
              0.4444444444444444,
              "#000015"
             ],
             [
              0.5555555555555556,
              "#000016"
             ],
             [
              0.6666666666666666,
              "#000017"
             ],
             [
              0.7777777777777778,
              "#000018"
             ],
             [
              0.8888888888888888,
              "#000019"
             ],
             [
              1,
              "#000020"
             ]
            ],
            "type": "contourcarpet"
           }
          ],
          "heatmap": [
           {
            "colorscale": [
             [
              0,
              "#000011"
             ],
             [
              0.1111111111111111,
              "#000012"
             ],
             [
              0.2222222222222222,
              "#000013"
             ],
             [
              0.3333333333333333,
              "#000014"
             ],
             [
              0.4444444444444444,
              "#000015"
             ],
             [
              0.5555555555555556,
              "#000016"
             ],
             [
              0.6666666666666666,
              "#000017"
             ],
             [
              0.7777777777777778,
              "#000018"
             ],
             [
              0.8888888888888888,
              "#000019"
             ],
             [
              1,
              "#000020"
             ]
            ],
            "type": "heatmap"
           }
          ],
          "histogram2d": [
           {
            "colorscale": [
             [
              0,
              "#000011"
             ],
             [
              0.1111111111111111,
              "#000012"
             ],
             [
              0.2222222222222222,
              "#000013"
             ],
             [
              0.3333333333333333,
              "#000014"
             ],
             [
              0.4444444444444444,
              "#000015"
             ],
             [
              0.5555555555555556,
              "#000016"
             ],
             [
              0.6666666666666666,
              "#000017"
             ],
             [
              0.7777777777777778,
              "#000018"
             ],
             [
              0.8888888888888888,
              "#000019"
             ],
             [
              1,
              "#000020"
             ]
            ],
            "type": "histogram2d"
           }
          ],
          "icicle": [
           {
            "textfont": {
             "color": "white"
            },
            "type": "icicle"
           }
          ],
          "sankey": [
           {
            "textfont": {
             "color": "#000036"
            },
            "type": "sankey"
           }
          ],
          "scatter": [
           {
            "marker": {
             "line": {
              "width": 0
             }
            },
            "type": "scatter"
           }
          ],
          "table": [
           {
            "cells": {
             "fill": {
              "color": "#000038"
             },
             "font": {
              "color": "#000037"
             },
             "line": {
              "color": "#000039"
             }
            },
            "header": {
             "fill": {
              "color": "#000040"
             },
             "font": {
              "color": "#000036"
             },
             "line": {
              "color": "#000039"
             }
            },
            "type": "table"
           }
          ],
          "waterfall": [
           {
            "connector": {
             "line": {
              "color": "#000036",
              "width": 2
             }
            },
            "decreasing": {
             "marker": {
              "color": "#000033"
             }
            },
            "increasing": {
             "marker": {
              "color": "#000032"
             }
            },
            "totals": {
             "marker": {
              "color": "#000034"
             }
            },
            "type": "waterfall"
           }
          ]
         },
         "layout": {
          "coloraxis": {
           "colorscale": [
            [
             0,
             "#000011"
            ],
            [
             0.1111111111111111,
             "#000012"
            ],
            [
             0.2222222222222222,
             "#000013"
            ],
            [
             0.3333333333333333,
             "#000014"
            ],
            [
             0.4444444444444444,
             "#000015"
            ],
            [
             0.5555555555555556,
             "#000016"
            ],
            [
             0.6666666666666666,
             "#000017"
            ],
            [
             0.7777777777777778,
             "#000018"
            ],
            [
             0.8888888888888888,
             "#000019"
            ],
            [
             1,
             "#000020"
            ]
           ]
          },
          "colorscale": {
           "diverging": [
            [
             0,
             "#000021"
            ],
            [
             0.1,
             "#000022"
            ],
            [
             0.2,
             "#000023"
            ],
            [
             0.3,
             "#000024"
            ],
            [
             0.4,
             "#000025"
            ],
            [
             0.5,
             "#000026"
            ],
            [
             0.6,
             "#000027"
            ],
            [
             0.7,
             "#000028"
            ],
            [
             0.8,
             "#000029"
            ],
            [
             0.9,
             "#000030"
            ],
            [
             1,
             "#000031"
            ]
           ],
           "sequential": [
            [
             0,
             "#000011"
            ],
            [
             0.1111111111111111,
             "#000012"
            ],
            [
             0.2222222222222222,
             "#000013"
            ],
            [
             0.3333333333333333,
             "#000014"
            ],
            [
             0.4444444444444444,
             "#000015"
            ],
            [
             0.5555555555555556,
             "#000016"
            ],
            [
             0.6666666666666666,
             "#000017"
            ],
            [
             0.7777777777777778,
             "#000018"
            ],
            [
             0.8888888888888888,
             "#000019"
            ],
            [
             1,
             "#000020"
            ]
           ],
           "sequentialminus": [
            [
             0,
             "#000011"
            ],
            [
             0.1111111111111111,
             "#000012"
            ],
            [
             0.2222222222222222,
             "#000013"
            ],
            [
             0.3333333333333333,
             "#000014"
            ],
            [
             0.4444444444444444,
             "#000015"
            ],
            [
             0.5555555555555556,
             "#000016"
            ],
            [
             0.6666666666666666,
             "#000017"
            ],
            [
             0.7777777777777778,
             "#000018"
            ],
            [
             0.8888888888888888,
             "#000019"
            ],
            [
             1,
             "#000020"
            ]
           ]
          },
          "colorway": [
           "#000001",
           "#000002",
           "#000003",
           "#000004",
           "#000005",
           "#000006",
           "#000007",
           "#000008",
           "#000009",
           "#000010"
          ]
         }
        },
        "title": {
         "text": "Total Sales and Units Sold by State"
        },
        "xaxis": {
         "tickangle": -45,
         "title": {
          "text": "State"
         }
        },
        "yaxis": {
         "title": {
          "text": "Total Sales (Millions)"
         }
        },
        "yaxis2": {
         "overlaying": "y",
         "side": "right",
         "title": {
          "text": "Units Sold (Thousands)"
         }
        }
       }
      }
     },
     "metadata": {},
     "output_type": "display_data"
    },
    {
     "data": {
      "text/html": [
       "<div>\n",
       "<style scoped>\n",
       "    .dataframe tbody tr th:only-of-type {\n",
       "        vertical-align: middle;\n",
       "    }\n",
       "\n",
       "    .dataframe tbody tr th {\n",
       "        vertical-align: top;\n",
       "    }\n",
       "\n",
       "    .dataframe thead th {\n",
       "        text-align: right;\n",
       "    }\n",
       "</style>\n",
       "<table border=\"1\" class=\"dataframe\">\n",
       "  <thead>\n",
       "    <tr style=\"text-align: right;\">\n",
       "      <th></th>\n",
       "      <th>TotalSales</th>\n",
       "      <th>UnitsSold</th>\n",
       "    </tr>\n",
       "    <tr>\n",
       "      <th>State</th>\n",
       "      <th></th>\n",
       "      <th></th>\n",
       "    </tr>\n",
       "  </thead>\n",
       "  <tbody>\n",
       "    <tr>\n",
       "      <th>Alabama</th>\n",
       "      <td>17633424.0</td>\n",
       "      <td>63327</td>\n",
       "    </tr>\n",
       "    <tr>\n",
       "      <th>Alaska</th>\n",
       "      <td>14753103.0</td>\n",
       "      <td>30815</td>\n",
       "    </tr>\n",
       "    <tr>\n",
       "      <th>Arizona</th>\n",
       "      <td>15782221.0</td>\n",
       "      <td>46919</td>\n",
       "    </tr>\n",
       "    <tr>\n",
       "      <th>Arkansas</th>\n",
       "      <td>12639347.0</td>\n",
       "      <td>48468</td>\n",
       "    </tr>\n",
       "    <tr>\n",
       "      <th>California</th>\n",
       "      <td>60174133.0</td>\n",
       "      <td>163284</td>\n",
       "    </tr>\n",
       "  </tbody>\n",
       "</table>\n",
       "</div>"
      ],
      "text/plain": [
       "            TotalSales  UnitsSold\n",
       "State                            \n",
       "Alabama     17633424.0      63327\n",
       "Alaska      14753103.0      30815\n",
       "Arizona     15782221.0      46919\n",
       "Arkansas    12639347.0      48468\n",
       "California  60174133.0     163284"
      ]
     },
     "execution_count": 9,
     "metadata": {},
     "output_type": "execute_result"
    },
    {
     "data": {
      "text/plain": [
       "<Figure size 1100x1500 with 0 Axes>"
      ]
     },
     "metadata": {},
     "output_type": "display_data"
    }
   ],
   "source": [
    "##########################################3\n",
    "# Graph logic 1\n",
    "states_df = df['State'].unique()\n",
    "\n",
    "total_sales_bystate = df.groupby('State')['TotalSales'].sum().sort_index()\n",
    "sumTotal = total_sales_bystate.to_frame(name= 'State')\n",
    "\n",
    "# Graph Logic 2\n",
    "units_sold_bystate = df.groupby('State')['UnitsSold'].sum().sort_index()\n",
    "unitTotal = units_sold_bystate.to_frame(name='State')\n",
    "\n",
    "# Graph Logic 3\n",
    "grand_df= df.groupby('State')[['TotalSales','UnitsSold']].sum().sort_index()\n",
    "\n",
    "plt.figure(figsize=(11,15))\n",
    "\n",
    "\n",
    "\n",
    "###############################\n",
    "# Create Plot 1\n",
    "color = ['blue']\n",
    "fig1 = px.bar(data_frame=sumTotal, \n",
    "            x=sumTotal.index, \n",
    "            y='State', \n",
    "            color_discrete_sequence=color,\n",
    "            \n",
    ")\n",
    "\n",
    "# Create Plot 2\n",
    "fig2 = px.line(data_frame=unitTotal,\n",
    "               x=unitTotal.index,\n",
    "               y='State',\n",
    "               color_discrete_sequence=color\n",
    "       \n",
    " )\n",
    "\n",
    "# Create Plot 3\n",
    "\n",
    "# Create traces for fig3\n",
    "trace1 = go.Bar(\n",
    "    x=grand_df.index,\n",
    "    y=grand_df['TotalSales'],\n",
    "    name='Total Sales',\n",
    "    marker_color='royalblue'\n",
    ")\n",
    "\n",
    "\n",
    "trace3 = go.Scatter(\n",
    "    # x=grand_df.index,\n",
    "    # y=grand_df['UnitsSold'],\n",
    "    x=unitTotal.index,\n",
    "    y=unitTotal['State'],\n",
    "    name='Units Sold',\n",
    "    line_color='orange',\n",
    "    marker_opacity=0,\n",
    "    yaxis='y2'\n",
    "    # Hide markers for cleaner line\n",
    ")\n",
    "\n",
    "# Combine traces into fig3\n",
    "fig3 = go.Figure(data=[trace1, trace3])\n",
    "\n",
    "\n",
    "\n",
    "\n",
    "##############################\n",
    "# Customize Plots\n",
    "fig1.update_layout(\n",
    "    xaxis_title='State',\n",
    "    yaxis_title='Total Sales'\n",
    ")\n",
    "\n",
    "fig2.update_layout(\n",
    "    xaxis_title='State',\n",
    "    yaxis_title='Units Sold'\n",
    ")\n",
    "\n",
    "\n",
    "# Update layouts for all figures (modify as needed for fig1 & fig2)\n",
    "fig3.update_layout(\n",
    "    title='Total Sales and Units Sold by State',\n",
    "    xaxis_title='State',\n",
    "    xaxis_tickangle=-45,\n",
    "    yaxis_title='Total Sales (Millions)',  # Label for primary y-axis\n",
    "    yaxis2=dict(\n",
    "        title='Units Sold (Thousands)',  # Label for secondary y-axis\n",
    "        overlaying='y',\n",
    "        side='right'\n",
    "    )   \n",
    ")\n",
    "\n",
    "# Show Graph \n",
    "plt.savefig('unitsSoldByState.png', dpi=300)\n",
    "fig1.show() \n",
    "fig2.show()\n",
    "fig3.show()\n",
    "grand_df.head(5)"
   ]
  },
  {
   "cell_type": "markdown",
   "metadata": {},
   "source": [
    "## Total Sales by Region and City in Treemap"
   ]
  },
  {
   "cell_type": "code",
   "execution_count": 20,
   "metadata": {},
   "outputs": [
    {
     "data": {
      "text/html": [
       "<div>\n",
       "<style scoped>\n",
       "    .dataframe tbody tr th:only-of-type {\n",
       "        vertical-align: middle;\n",
       "    }\n",
       "\n",
       "    .dataframe tbody tr th {\n",
       "        vertical-align: top;\n",
       "    }\n",
       "\n",
       "    .dataframe thead th {\n",
       "        text-align: right;\n",
       "    }\n",
       "</style>\n",
       "<table border=\"1\" class=\"dataframe\">\n",
       "  <thead>\n",
       "    <tr style=\"text-align: right;\">\n",
       "      <th></th>\n",
       "      <th>Retailer</th>\n",
       "      <th>RetailerID</th>\n",
       "      <th>InvoiceDate</th>\n",
       "      <th>Region</th>\n",
       "      <th>State</th>\n",
       "      <th>City</th>\n",
       "      <th>Product</th>\n",
       "      <th>PriceperUnit</th>\n",
       "      <th>UnitsSold</th>\n",
       "      <th>TotalSales</th>\n",
       "      <th>OperatingProfit</th>\n",
       "      <th>OperatingMargin</th>\n",
       "      <th>SalesMethod</th>\n",
       "    </tr>\n",
       "  </thead>\n",
       "  <tbody>\n",
       "    <tr>\n",
       "      <th>0</th>\n",
       "      <td>Foot Locker</td>\n",
       "      <td>1185732</td>\n",
       "      <td>2020-02</td>\n",
       "      <td>Northeast</td>\n",
       "      <td>New York</td>\n",
       "      <td>New York</td>\n",
       "      <td>Women's Athletic Footwear</td>\n",
       "      <td>45.0</td>\n",
       "      <td>825</td>\n",
       "      <td>371250.0</td>\n",
       "      <td>129937.5</td>\n",
       "      <td>0.35</td>\n",
       "      <td>Outlet</td>\n",
       "    </tr>\n",
       "    <tr>\n",
       "      <th>1</th>\n",
       "      <td>Foot Locker</td>\n",
       "      <td>1185732</td>\n",
       "      <td>2020-02</td>\n",
       "      <td>Northeast</td>\n",
       "      <td>New York</td>\n",
       "      <td>New York</td>\n",
       "      <td>Men's Apparel</td>\n",
       "      <td>60.0</td>\n",
       "      <td>825</td>\n",
       "      <td>495000.0</td>\n",
       "      <td>148500.0</td>\n",
       "      <td>0.30</td>\n",
       "      <td>Outlet</td>\n",
       "    </tr>\n",
       "    <tr>\n",
       "      <th>2</th>\n",
       "      <td>Foot Locker</td>\n",
       "      <td>1185732</td>\n",
       "      <td>2020-02</td>\n",
       "      <td>Northeast</td>\n",
       "      <td>New York</td>\n",
       "      <td>New York</td>\n",
       "      <td>Women's Apparel</td>\n",
       "      <td>50.0</td>\n",
       "      <td>950</td>\n",
       "      <td>475000.0</td>\n",
       "      <td>118750.0</td>\n",
       "      <td>0.25</td>\n",
       "      <td>Outlet</td>\n",
       "    </tr>\n",
       "    <tr>\n",
       "      <th>3</th>\n",
       "      <td>Foot Locker</td>\n",
       "      <td>1185732</td>\n",
       "      <td>2020-02</td>\n",
       "      <td>Northeast</td>\n",
       "      <td>New York</td>\n",
       "      <td>New York</td>\n",
       "      <td>Men's Street Footwear</td>\n",
       "      <td>60.0</td>\n",
       "      <td>1220</td>\n",
       "      <td>732000.0</td>\n",
       "      <td>366000.0</td>\n",
       "      <td>0.50</td>\n",
       "      <td>Outlet</td>\n",
       "    </tr>\n",
       "    <tr>\n",
       "      <th>4</th>\n",
       "      <td>Foot Locker</td>\n",
       "      <td>1185732</td>\n",
       "      <td>2020-02</td>\n",
       "      <td>Northeast</td>\n",
       "      <td>New York</td>\n",
       "      <td>New York</td>\n",
       "      <td>Men's Athletic Footwear</td>\n",
       "      <td>55.0</td>\n",
       "      <td>925</td>\n",
       "      <td>508750.0</td>\n",
       "      <td>152625.0</td>\n",
       "      <td>0.30</td>\n",
       "      <td>Outlet</td>\n",
       "    </tr>\n",
       "    <tr>\n",
       "      <th>5</th>\n",
       "      <td>Foot Locker</td>\n",
       "      <td>1185732</td>\n",
       "      <td>2020-02</td>\n",
       "      <td>Northeast</td>\n",
       "      <td>New York</td>\n",
       "      <td>New York</td>\n",
       "      <td>Women's Street Footwear</td>\n",
       "      <td>50.0</td>\n",
       "      <td>900</td>\n",
       "      <td>450000.0</td>\n",
       "      <td>157500.0</td>\n",
       "      <td>0.35</td>\n",
       "      <td>Outlet</td>\n",
       "    </tr>\n",
       "    <tr>\n",
       "      <th>6</th>\n",
       "      <td>Foot Locker</td>\n",
       "      <td>1185732</td>\n",
       "      <td>2020-01</td>\n",
       "      <td>Northeast</td>\n",
       "      <td>New York</td>\n",
       "      <td>New York</td>\n",
       "      <td>Men's Street Footwear</td>\n",
       "      <td>50.0</td>\n",
       "      <td>1200</td>\n",
       "      <td>382500.0</td>\n",
       "      <td>133800.0</td>\n",
       "      <td>0.50</td>\n",
       "      <td>In-store</td>\n",
       "    </tr>\n",
       "    <tr>\n",
       "      <th>7</th>\n",
       "      <td>Foot Locker</td>\n",
       "      <td>1185732</td>\n",
       "      <td>2020-01</td>\n",
       "      <td>Northeast</td>\n",
       "      <td>New York</td>\n",
       "      <td>New York</td>\n",
       "      <td>Men's Athletic Footwear</td>\n",
       "      <td>50.0</td>\n",
       "      <td>1000</td>\n",
       "      <td>500000.0</td>\n",
       "      <td>150000.0</td>\n",
       "      <td>0.30</td>\n",
       "      <td>In-store</td>\n",
       "    </tr>\n",
       "    <tr>\n",
       "      <th>8</th>\n",
       "      <td>Foot Locker</td>\n",
       "      <td>1185732</td>\n",
       "      <td>2020-01</td>\n",
       "      <td>Northeast</td>\n",
       "      <td>New York</td>\n",
       "      <td>New York</td>\n",
       "      <td>Women's Street Footwear</td>\n",
       "      <td>40.0</td>\n",
       "      <td>1000</td>\n",
       "      <td>400000.0</td>\n",
       "      <td>140000.0</td>\n",
       "      <td>0.35</td>\n",
       "      <td>In-store</td>\n",
       "    </tr>\n",
       "    <tr>\n",
       "      <th>9</th>\n",
       "      <td>Foot Locker</td>\n",
       "      <td>1185732</td>\n",
       "      <td>2020-01</td>\n",
       "      <td>Northeast</td>\n",
       "      <td>New York</td>\n",
       "      <td>New York</td>\n",
       "      <td>Women's Athletic Footwear</td>\n",
       "      <td>45.0</td>\n",
       "      <td>850</td>\n",
       "      <td>382500.0</td>\n",
       "      <td>133875.0</td>\n",
       "      <td>0.35</td>\n",
       "      <td>In-store</td>\n",
       "    </tr>\n",
       "  </tbody>\n",
       "</table>\n",
       "</div>"
      ],
      "text/plain": [
       "      Retailer  RetailerID InvoiceDate     Region     State      City  \\\n",
       "0  Foot Locker     1185732     2020-02  Northeast  New York  New York   \n",
       "1  Foot Locker     1185732     2020-02  Northeast  New York  New York   \n",
       "2  Foot Locker     1185732     2020-02  Northeast  New York  New York   \n",
       "3  Foot Locker     1185732     2020-02  Northeast  New York  New York   \n",
       "4  Foot Locker     1185732     2020-02  Northeast  New York  New York   \n",
       "5  Foot Locker     1185732     2020-02  Northeast  New York  New York   \n",
       "6  Foot Locker     1185732     2020-01  Northeast  New York  New York   \n",
       "7  Foot Locker     1185732     2020-01  Northeast  New York  New York   \n",
       "8  Foot Locker     1185732     2020-01  Northeast  New York  New York   \n",
       "9  Foot Locker     1185732     2020-01  Northeast  New York  New York   \n",
       "\n",
       "                     Product  PriceperUnit  UnitsSold  TotalSales  \\\n",
       "0  Women's Athletic Footwear          45.0        825    371250.0   \n",
       "1              Men's Apparel          60.0        825    495000.0   \n",
       "2            Women's Apparel          50.0        950    475000.0   \n",
       "3      Men's Street Footwear          60.0       1220    732000.0   \n",
       "4    Men's Athletic Footwear          55.0        925    508750.0   \n",
       "5    Women's Street Footwear          50.0        900    450000.0   \n",
       "6      Men's Street Footwear          50.0       1200    382500.0   \n",
       "7    Men's Athletic Footwear          50.0       1000    500000.0   \n",
       "8    Women's Street Footwear          40.0       1000    400000.0   \n",
       "9  Women's Athletic Footwear          45.0        850    382500.0   \n",
       "\n",
       "   OperatingProfit  OperatingMargin SalesMethod  \n",
       "0         129937.5             0.35      Outlet  \n",
       "1         148500.0             0.30      Outlet  \n",
       "2         118750.0             0.25      Outlet  \n",
       "3         366000.0             0.50      Outlet  \n",
       "4         152625.0             0.30      Outlet  \n",
       "5         157500.0             0.35      Outlet  \n",
       "6         133800.0             0.50    In-store  \n",
       "7         150000.0             0.30    In-store  \n",
       "8         140000.0             0.35    In-store  \n",
       "9         133875.0             0.35    In-store  "
      ]
     },
     "execution_count": 20,
     "metadata": {},
     "output_type": "execute_result"
    }
   ],
   "source": [
    "df.head(10)"
   ]
  },
  {
   "cell_type": "code",
   "execution_count": 16,
   "metadata": {},
   "outputs": [
    {
     "data": {
      "text/plain": [
       "array(['Northeast', 'South', 'West', 'Midwest', 'Southeast'], dtype=object)"
      ]
     },
     "execution_count": 16,
     "metadata": {},
     "output_type": "execute_result"
    }
   ],
   "source": [
    "df.Region.unique()"
   ]
  },
  {
   "cell_type": "code",
   "execution_count": 37,
   "metadata": {},
   "outputs": [
    {
     "data": {
      "application/vnd.plotly.v1+json": {
       "config": {
        "plotlyServerURL": "https://plot.ly"
       },
       "data": [
        {
         "branchvalues": "total",
         "customdata": [
          [
           24427804.000000004,
           "Albany"
          ],
          [
           16411667.000000002,
           "Manchester"
          ],
          [
           31600863.000000004,
           "Miami"
          ],
          [
           7727469,
           "Milwaukee"
          ],
          [
           7378068,
           "Minneapolis"
          ],
          [
           23750781.000000004,
           "New Orleans"
          ],
          [
           39583735,
           "New York"
          ],
          [
           9934246,
           "Newark"
          ],
          [
           10620734,
           "Oklahoma City"
          ],
          [
           5929038,
           "Omaha"
          ],
          [
           27682851,
           "Orlando"
          ],
          [
           10357519,
           "Philadelphia"
          ],
          [
           15782221.000000002,
           "Phoenix"
          ],
          [
           10072848,
           "Louisville"
          ],
          [
           9195978,
           "Portland"
          ],
          [
           8446806,
           "Providence"
          ],
          [
           21575040,
           "Richmond"
          ],
          [
           9696420,
           "Salt Lake City"
          ],
          [
           34539220,
           "San Francisco"
          ],
          [
           26330718.000000004,
           "Seattle"
          ],
          [
           8495576,
           "Sioux Falls"
          ],
          [
           9683265,
           "St. Louis"
          ],
          [
           9972864,
           "Wichita"
          ],
          [
           12298412,
           "Wilmington"
          ],
          [
           135800459,
           "(?)"
          ],
          [
           186106567,
           "(?)"
          ],
          [
           144663181,
           "(?)"
          ],
          [
           21349674,
           "Portland"
          ],
          [
           163171236,
           "(?)"
          ],
          [
           25634913,
           "Los Angeles"
          ],
          [
           20858509,
           "Las Vegas"
          ],
          [
           19865016.000000004,
           "Albuquerque"
          ],
          [
           14753103.000000002,
           "Anchorage"
          ],
          [
           18997466,
           "Atlanta"
          ],
          [
           7758059,
           "Baltimore"
          ],
          [
           15710886,
           "Billings"
          ],
          [
           17633424,
           "Birmingham"
          ],
          [
           19276878,
           "Boise"
          ],
          [
           11076810,
           "Boston"
          ],
          [
           14352923,
           "Burlington"
          ],
          [
           10689160,
           "Charleston"
          ],
          [
           29285637,
           "Charleston"
          ],
          [
           23956531,
           "Charlotte"
          ],
          [
           12639347,
           "Little Rock"
          ],
          [
           18577517,
           "Cheyenne"
          ],
          [
           18484583,
           "Columbus"
          ],
          [
           20902864,
           "Dallas"
          ],
          [
           20996536,
           "Denver"
          ],
          [
           7424011,
           "Des Moines"
          ],
          [
           18625433,
           "Detroit"
          ],
          [
           7735580,
           "Fargo"
          ],
          [
           11573448,
           "Hartford"
          ],
          [
           22282457,
           "Honolulu"
          ],
          [
           25456882,
           "Houston"
          ],
          [
           8836198,
           "Indianapolis"
          ],
          [
           15591709.000000002,
           "Jackson"
          ],
          [
           18067440,
           "Knoxville"
          ],
          [
           9797488,
           "Chicago"
          ],
          [
           269943182,
           "(?)"
          ]
         ],
         "domain": {
          "x": [
           0,
           1
          ],
          "y": [
           0,
           1
          ]
         },
         "hovertemplate": "<b>%{hovertext}</b><br><br>labels=%{label}<br>TotalSales=%{customdata[0]}<br>parent=%{parent}<br>id=%{id}<br>City=%{customdata[1]}<extra></extra>",
         "hovertext": [
          24427804.000000004,
          16411667.000000002,
          31600863.000000004,
          7727469,
          7378068,
          23750781.000000004,
          39583735,
          9934246,
          10620734,
          5929038,
          27682851,
          10357519,
          15782221.000000002,
          10072848,
          9195978,
          8446806,
          21575040,
          9696420,
          34539220,
          26330718.000000004,
          8495576,
          9683265,
          9972864,
          12298412,
          135800459,
          186106567,
          144663181,
          21349674,
          163171236,
          25634913,
          20858509,
          19865016.000000004,
          14753103.000000002,
          18997466,
          7758059,
          15710886,
          17633424,
          19276878,
          11076810,
          14352923,
          10689160,
          29285637,
          23956531,
          12639347,
          18577517,
          18484583,
          20902864,
          20996536,
          7424011,
          18625433,
          7735580,
          11573448,
          22282457,
          25456882,
          8836198,
          15591709.000000002,
          18067440,
          9797488,
          269943182
         ],
         "ids": [
          "Northeast/Albany",
          "Northeast/Manchester",
          "Southeast/Miami",
          "Midwest/Milwaukee",
          "Midwest/Minneapolis",
          "South/New Orleans",
          "Northeast/New York",
          "Northeast/Newark",
          "South/Oklahoma City",
          "Midwest/Omaha",
          "Southeast/Orlando",
          "Northeast/Philadelphia",
          "West/Phoenix",
          "Southeast/Louisville",
          "Northeast/Portland",
          "Northeast/Providence",
          "Southeast/Richmond",
          "West/Salt Lake City",
          "West/San Francisco",
          "West/Seattle",
          "Midwest/Sioux Falls",
          "Midwest/St. Louis",
          "Midwest/Wichita",
          "Northeast/Wilmington",
          "Midwest",
          "Northeast",
          "South",
          "West/Portland",
          "Southeast",
          "West/Los Angeles",
          "West/Las Vegas",
          "West/Albuquerque",
          "West/Anchorage",
          "Southeast/Atlanta",
          "Northeast/Baltimore",
          "Midwest/Billings",
          "South/Birmingham",
          "West/Boise",
          "Northeast/Boston",
          "Northeast/Burlington",
          "Northeast/Charleston",
          "Southeast/Charleston",
          "Southeast/Charlotte",
          "South/Little Rock",
          "West/Cheyenne",
          "Midwest/Columbus",
          "South/Dallas",
          "West/Denver",
          "Midwest/Des Moines",
          "Midwest/Detroit",
          "Midwest/Fargo",
          "Northeast/Hartford",
          "West/Honolulu",
          "South/Houston",
          "Midwest/Indianapolis",
          "South/Jackson",
          "South/Knoxville",
          "Midwest/Chicago",
          "West"
         ],
         "labels": [
          "Albany",
          "Manchester",
          "Miami",
          "Milwaukee",
          "Minneapolis",
          "New Orleans",
          "New York",
          "Newark",
          "Oklahoma City",
          "Omaha",
          "Orlando",
          "Philadelphia",
          "Phoenix",
          "Louisville",
          "Portland",
          "Providence",
          "Richmond",
          "Salt Lake City",
          "San Francisco",
          "Seattle",
          "Sioux Falls",
          "St. Louis",
          "Wichita",
          "Wilmington",
          "Midwest",
          "Northeast",
          "South",
          "Portland",
          "Southeast",
          "Los Angeles",
          "Las Vegas",
          "Albuquerque",
          "Anchorage",
          "Atlanta",
          "Baltimore",
          "Billings",
          "Birmingham",
          "Boise",
          "Boston",
          "Burlington",
          "Charleston",
          "Charleston",
          "Charlotte",
          "Little Rock",
          "Cheyenne",
          "Columbus",
          "Dallas",
          "Denver",
          "Des Moines",
          "Detroit",
          "Fargo",
          "Hartford",
          "Honolulu",
          "Houston",
          "Indianapolis",
          "Jackson",
          "Knoxville",
          "Chicago",
          "West"
         ],
         "marker": {
          "colors": [
           "pink",
           "red",
           "green",
           "orange",
           "blue",
           "purple",
           "pink",
           "red",
           "green",
           "orange",
           "blue",
           "purple",
           "pink",
           "red",
           "green",
           "orange",
           "blue",
           "purple",
           "pink",
           "red",
           "green",
           "orange",
           "blue",
           "purple",
           "pink",
           "pink",
           "pink",
           "green",
           "pink",
           "red",
           "green",
           "orange",
           "blue",
           "purple",
           "pink",
           "red",
           "green",
           "orange",
           "blue",
           "purple",
           "pink",
           "pink",
           "red",
           "green",
           "orange",
           "blue",
           "purple",
           "pink",
           "red",
           "green",
           "orange",
           "blue",
           "purple",
           "pink",
           "red",
           "green",
           "orange",
           "blue",
           "pink"
          ]
         },
         "name": "",
         "parents": [
          "Northeast",
          "Northeast",
          "Southeast",
          "Midwest",
          "Midwest",
          "South",
          "Northeast",
          "Northeast",
          "South",
          "Midwest",
          "Southeast",
          "Northeast",
          "West",
          "Southeast",
          "Northeast",
          "Northeast",
          "Southeast",
          "West",
          "West",
          "West",
          "Midwest",
          "Midwest",
          "Midwest",
          "Northeast",
          "",
          "",
          "",
          "West",
          "",
          "West",
          "West",
          "West",
          "West",
          "Southeast",
          "Northeast",
          "Midwest",
          "South",
          "West",
          "Northeast",
          "Northeast",
          "Northeast",
          "Southeast",
          "Southeast",
          "South",
          "West",
          "Midwest",
          "South",
          "West",
          "Midwest",
          "Midwest",
          "Midwest",
          "Northeast",
          "West",
          "South",
          "Midwest",
          "South",
          "South",
          "Midwest",
          ""
         ],
         "textinfo": "label+value",
         "type": "treemap",
         "values": [
          24427804.000000004,
          16411667.000000002,
          31600863.000000004,
          7727469,
          7378068,
          23750781.000000004,
          39583735,
          9934246,
          10620734,
          5929038,
          27682851,
          10357519,
          15782221.000000002,
          10072848,
          9195978,
          8446806,
          21575040,
          9696420,
          34539220,
          26330718.000000004,
          8495576,
          9683265,
          9972864,
          12298412,
          135800459,
          186106567,
          144663181,
          21349674,
          163171236,
          25634913,
          20858509,
          19865016.000000004,
          14753103.000000002,
          18997466,
          7758059,
          15710886,
          17633424,
          19276878,
          11076810,
          14352923,
          10689160,
          29285637,
          23956531,
          12639347,
          18577517,
          18484583,
          20902864,
          20996536,
          7424011,
          18625433,
          7735580,
          11573448,
          22282457,
          25456882,
          8836198,
          15591709.000000002,
          18067440,
          9797488,
          269943182
         ]
        }
       ],
       "layout": {
        "legend": {
         "tracegroupgap": 0
        },
        "margin": {
         "b": 50,
         "l": 50,
         "r": 50,
         "t": 50
        },
        "template": {
         "data": {
          "candlestick": [
           {
            "decreasing": {
             "line": {
              "color": "#000033"
             }
            },
            "increasing": {
             "line": {
              "color": "#000032"
             }
            },
            "type": "candlestick"
           }
          ],
          "contour": [
           {
            "colorscale": [
             [
              0,
              "#000011"
             ],
             [
              0.1111111111111111,
              "#000012"
             ],
             [
              0.2222222222222222,
              "#000013"
             ],
             [
              0.3333333333333333,
              "#000014"
             ],
             [
              0.4444444444444444,
              "#000015"
             ],
             [
              0.5555555555555556,
              "#000016"
             ],
             [
              0.6666666666666666,
              "#000017"
             ],
             [
              0.7777777777777778,
              "#000018"
             ],
             [
              0.8888888888888888,
              "#000019"
             ],
             [
              1,
              "#000020"
             ]
            ],
            "type": "contour"
           }
          ],
          "contourcarpet": [
           {
            "colorscale": [
             [
              0,
              "#000011"
             ],
             [
              0.1111111111111111,
              "#000012"
             ],
             [
              0.2222222222222222,
              "#000013"
             ],
             [
              0.3333333333333333,
              "#000014"
             ],
             [
              0.4444444444444444,
              "#000015"
             ],
             [
              0.5555555555555556,
              "#000016"
             ],
             [
              0.6666666666666666,
              "#000017"
             ],
             [
              0.7777777777777778,
              "#000018"
             ],
             [
              0.8888888888888888,
              "#000019"
             ],
             [
              1,
              "#000020"
             ]
            ],
            "type": "contourcarpet"
           }
          ],
          "heatmap": [
           {
            "colorscale": [
             [
              0,
              "#000011"
             ],
             [
              0.1111111111111111,
              "#000012"
             ],
             [
              0.2222222222222222,
              "#000013"
             ],
             [
              0.3333333333333333,
              "#000014"
             ],
             [
              0.4444444444444444,
              "#000015"
             ],
             [
              0.5555555555555556,
              "#000016"
             ],
             [
              0.6666666666666666,
              "#000017"
             ],
             [
              0.7777777777777778,
              "#000018"
             ],
             [
              0.8888888888888888,
              "#000019"
             ],
             [
              1,
              "#000020"
             ]
            ],
            "type": "heatmap"
           }
          ],
          "histogram2d": [
           {
            "colorscale": [
             [
              0,
              "#000011"
             ],
             [
              0.1111111111111111,
              "#000012"
             ],
             [
              0.2222222222222222,
              "#000013"
             ],
             [
              0.3333333333333333,
              "#000014"
             ],
             [
              0.4444444444444444,
              "#000015"
             ],
             [
              0.5555555555555556,
              "#000016"
             ],
             [
              0.6666666666666666,
              "#000017"
             ],
             [
              0.7777777777777778,
              "#000018"
             ],
             [
              0.8888888888888888,
              "#000019"
             ],
             [
              1,
              "#000020"
             ]
            ],
            "type": "histogram2d"
           }
          ],
          "icicle": [
           {
            "textfont": {
             "color": "white"
            },
            "type": "icicle"
           }
          ],
          "sankey": [
           {
            "textfont": {
             "color": "#000036"
            },
            "type": "sankey"
           }
          ],
          "scatter": [
           {
            "marker": {
             "line": {
              "width": 0
             }
            },
            "type": "scatter"
           }
          ],
          "table": [
           {
            "cells": {
             "fill": {
              "color": "#000038"
             },
             "font": {
              "color": "#000037"
             },
             "line": {
              "color": "#000039"
             }
            },
            "header": {
             "fill": {
              "color": "#000040"
             },
             "font": {
              "color": "#000036"
             },
             "line": {
              "color": "#000039"
             }
            },
            "type": "table"
           }
          ],
          "waterfall": [
           {
            "connector": {
             "line": {
              "color": "#000036",
              "width": 2
             }
            },
            "decreasing": {
             "marker": {
              "color": "#000033"
             }
            },
            "increasing": {
             "marker": {
              "color": "#000032"
             }
            },
            "totals": {
             "marker": {
              "color": "#000034"
             }
            },
            "type": "waterfall"
           }
          ]
         },
         "layout": {
          "coloraxis": {
           "colorscale": [
            [
             0,
             "#000011"
            ],
            [
             0.1111111111111111,
             "#000012"
            ],
            [
             0.2222222222222222,
             "#000013"
            ],
            [
             0.3333333333333333,
             "#000014"
            ],
            [
             0.4444444444444444,
             "#000015"
            ],
            [
             0.5555555555555556,
             "#000016"
            ],
            [
             0.6666666666666666,
             "#000017"
            ],
            [
             0.7777777777777778,
             "#000018"
            ],
            [
             0.8888888888888888,
             "#000019"
            ],
            [
             1,
             "#000020"
            ]
           ]
          },
          "colorscale": {
           "diverging": [
            [
             0,
             "#000021"
            ],
            [
             0.1,
             "#000022"
            ],
            [
             0.2,
             "#000023"
            ],
            [
             0.3,
             "#000024"
            ],
            [
             0.4,
             "#000025"
            ],
            [
             0.5,
             "#000026"
            ],
            [
             0.6,
             "#000027"
            ],
            [
             0.7,
             "#000028"
            ],
            [
             0.8,
             "#000029"
            ],
            [
             0.9,
             "#000030"
            ],
            [
             1,
             "#000031"
            ]
           ],
           "sequential": [
            [
             0,
             "#000011"
            ],
            [
             0.1111111111111111,
             "#000012"
            ],
            [
             0.2222222222222222,
             "#000013"
            ],
            [
             0.3333333333333333,
             "#000014"
            ],
            [
             0.4444444444444444,
             "#000015"
            ],
            [
             0.5555555555555556,
             "#000016"
            ],
            [
             0.6666666666666666,
             "#000017"
            ],
            [
             0.7777777777777778,
             "#000018"
            ],
            [
             0.8888888888888888,
             "#000019"
            ],
            [
             1,
             "#000020"
            ]
           ],
           "sequentialminus": [
            [
             0,
             "#000011"
            ],
            [
             0.1111111111111111,
             "#000012"
            ],
            [
             0.2222222222222222,
             "#000013"
            ],
            [
             0.3333333333333333,
             "#000014"
            ],
            [
             0.4444444444444444,
             "#000015"
            ],
            [
             0.5555555555555556,
             "#000016"
            ],
            [
             0.6666666666666666,
             "#000017"
            ],
            [
             0.7777777777777778,
             "#000018"
            ],
            [
             0.8888888888888888,
             "#000019"
            ],
            [
             1,
             "#000020"
            ]
           ]
          },
          "colorway": [
           "#000001",
           "#000002",
           "#000003",
           "#000004",
           "#000005",
           "#000006",
           "#000007",
           "#000008",
           "#000009",
           "#000010"
          ]
         }
        },
        "title": {
         "text": "Total Sales by Region and City"
        },
        "treemapcolorway": [
         "pink",
         "red",
         "green",
         "orange",
         "blue",
         "purple"
        ]
       }
      }
     },
     "metadata": {},
     "output_type": "display_data"
    }
   ],
   "source": [
    "import plotly.express as px\n",
    "\n",
    "# ... (rest of your code)\n",
    "\n",
    "fig = px.treemap(df, path=['Region', 'City'], \n",
    "                 values='TotalSales',\n",
    "                color='City',  # Color nodes by region\n",
    "                hover_name='TotalSales',\n",
    "                hover_data=['TotalSales'],  # Show relevant data on hover\n",
    "                title='Total Sales by Region and City',\n",
    "                color_discrete_sequence=['pink', 'red', 'green', 'orange', 'blue', 'purple']\n",
    "            )  # Customize color palette\n",
    "fig.update_traces(textinfo=\"label+value\")\n",
    "fig.update_layout(margin=dict(t=50, l=50, r=50, b=50))  # Adjust margins for better readability\n",
    "\n",
    "fig.show()"
   ]
  }
 ],
 "metadata": {
  "kernelspec": {
   "display_name": ".venv",
   "language": "python",
   "name": "python3"
  },
  "language_info": {
   "codemirror_mode": {
    "name": "ipython",
    "version": 3
   },
   "file_extension": ".py",
   "mimetype": "text/x-python",
   "name": "python",
   "nbconvert_exporter": "python",
   "pygments_lexer": "ipython3",
   "version": "3.11.2"
  }
 },
 "nbformat": 4,
 "nbformat_minor": 2
}
